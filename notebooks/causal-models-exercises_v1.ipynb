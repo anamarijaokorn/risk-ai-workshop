{
 "cells": [
  {
   "cell_type": "markdown",
   "metadata": {},
   "source": [
    "# Examples and exercises for causal models"
   ]
  },
  {
   "cell_type": "code",
   "execution_count": 1,
   "metadata": {},
   "outputs": [],
   "source": [
    "import os\n",
    "from pathlib import Path\n",
    "\n",
    "import numpy as np\n",
    "import pandas as pd\n",
    "import xarray as xr\n",
    "\n",
    "import pytest\n",
    "\n",
    "# Only needed to generate graphs, may be safely ommitted \n",
    "# once you comment out relevant cells below\n",
    "from graphviz import Digraph\n",
    "from brent import DAG, Query"
   ]
  },
  {
   "cell_type": "code",
   "execution_count": 29,
   "metadata": {},
   "outputs": [],
   "source": [
    "datadir = Path(os.getcwd()) / 'data'"
   ]
  },
  {
   "cell_type": "markdown",
   "metadata": {},
   "source": [
    "## Expanded proof of quantities unchanged between $G$ and $G' = G_{\\underline{\\textrm{days}}}$\n",
    "\n",
    "from slides ``Correlation and Causality''\n",
    "\n",
    "Graph of ``given-days'' graph $G$:\n",
    "\n",
    "![Graph of hit-rate for conditional calculations](../slides/correlation-causality/graphics/given_days.png)\n",
    "\n",
    "Graph of ``do-days'' graph $G'$:\n",
    "\n",
    "![Graph of hit-rate for do calculations](../slides/correlation-causality/graphics/do_days.png)"
   ]
  },
  {
   "cell_type": "markdown",
   "metadata": {},
   "source": [
    "### Proof of $P_{G'}(\\textrm{producttype} = p, \\textrm{rating} = r)=  P_G( \\textrm{producttype} = p, \\textrm{rating} = r)$ \n",
    "\n",
    "We swap notation for this proof a bit, writing $Pr$ for probability, and $P$ for $\\textrm{producttype}$, $R$ for $\\textrm{rating}$, etc.\n",
    "\n",
    "By the definition of graphical models and the decomposition of conditional probabilities\n",
    "\n",
    "$$\n",
    "Pr_G(P, R, D, H) = Pr(P) \\cdot Pr_G(R|P) \\cdot {\\color{red}{Pr_G(D|P)}} \\cdot Pr_G(H | D, R)\n",
    "$$\n",
    "\n",
    "Note how we have dropped the subscript from $Pr(P)$, as the marginal probabilities of each vertex variable are independent of the underlying graph. For $G'$ we have\n",
    "\n",
    "$$\n",
    "Pr_{G'}(P, R, D, H) = Pr(P) \\cdot Pr_G(R|P) \\cdot {\\color{red}{Pr(D)}} \\cdot Pr_G(H | D, R)\n",
    "$$\n",
    "\n",
    "where we've highlighted in $\\color{red}{\\textrm{red}}$ the terms that differ between the two expressions.\n",
    "\n",
    "Note further that, by definition of the graph surgery we do in going from $G$ to $G'$, all conditional probabilities are preserved that aren't affected by the ``do''-surgery.\n",
    "\n",
    "Now consider $P_{G'}(\\textrm{producttype} = p, \\textrm{rating} = r)$. Using the conditioning trick\n",
    "\n",
    "\\begin{align*}\n",
    "Pr_{G'}(P, R) & = \\sum_{d, h} Pr_{G'}(P=p, R=r, D=d, H=h) \\\\\n",
    "& = Pr(P) \\cdot Pr_{G'}(R|P) \\cdot \\sum_{d, h} {\\color{red}{Pr(D)}} \\cdot Pr_G(H | D, R) \\textrm{, by the graph property} \\\\\n",
    "& = Pr(P) \\cdot Pr_{G'}(R|P) \\cdot \\sum_{d} {\\color{red}{Pr(D)}} \\sum_h \\cdot Pr_G(H | D, R) \\textrm{, by lack of dependence on $h$ summands}\\\\\n",
    "& = Pr(P) \\cdot Pr_{G'}(R|P) \\cdot \\sum_{d} {\\color{red}{Pr(D)}} \\cdot 1 \\textrm{, by the law of total probability} \\\\\n",
    "& = Pr(P) \\cdot Pr_{G'}(R|P) \\cdot 1 \\textrm{, by the law of total probability for $D$}\n",
    "\\end{align*}\n",
    "\n",
    "Similarly\n",
    "\n",
    "\\begin{align*}\n",
    "Pr_{G}(P, R) & = \\sum_{d, h} Pr_{G'}(P=p, R=r, D=d, H=h) \\\\\n",
    "& = Pr(P) \\cdot Pr_G(R|P) \\cdot \\sum_{d, h} {\\color{red}{Pr(D | P)}} \\cdot Pr_G(H | D, R) \\textrm{, by the graph property} \\\\\n",
    "& = Pr(P) \\cdot Pr_G(R|P) \\cdot \\sum_{d} {\\color{red}{Pr(D | P)}} \\sum_h Pr_G(H | D, R) \\textrm{, by lack of dependence on $h$ summands} \\\\\n",
    "& = Pr(P) \\cdot Pr_G(R|P) \\cdot \\sum_{d} {\\color{red}{Pr(D | P)}} \\cdot 1 \\textrm{, by the law of total probability} \\\\\n",
    "& = Pr(P) \\cdot Pr_G(R|P) \\cdot 1 \\textrm{, by the law of total probability for each of $D|P$}\n",
    "\\end{align*}\n",
    "\n",
    "Since conditional probabilities unaffected by the ``do'' graph surgery are unaffected, we have $Pr_{G'}(R|P) = Pr_G(R|P)$, and the result follows."
   ]
  },
  {
   "cell_type": "markdown",
   "metadata": {},
   "source": [
    "### Proof of $P_{G'}(\\textrm{hit}=1 | \\textrm{producttype} = p, \\textrm{rating} = r)=  P_G(\\textrm{hit}=1 | \\textrm{producttype} = p, \\textrm{rating} = r)$ \n",
    "\n",
    "Using the same abbreviated notation as above,\n",
    "\n",
    "\\begin{align*}\n",
    "Pr_{G'}(H=1 | P, R) &= \\sum_{d} Pr_{G'}(H=1 | P, R, D=d) \\textrm{, by the conditioning trick}\\\\\n",
    "&= \\sum_{d} \\frac{\n",
    "    Pr(P) \\cdot Pr_G(R|P) \\cdot Pr(D) \\cdot Pr_{G'}(H = 1 | D, R)\n",
    "    }{\n",
    "        \\sum_h Pr(P) \\cdot Pr_{G'}(R|P) \\cdot Pr(D) \\cdot Pr_{G'}(H = h | D, R)\n",
    "    } \\textrm{, by definition of conditional probability and graphical models}\n",
    "\\end{align*}\n",
    "\n",
    "\n",
    "by the defining propert of graphical model $G'$ and using $Pr_{G'}(D) = Pr_G(D)$ (also for $(R | P)$)\n",
    "\n",
    "\\begin{align*}\n",
    "Pr_{G'}(H=1 | P, R) &=\\sum_{d} \\frac{\n",
    "    Pr(P) \\cdot Pr_{G'}(R|P) \\cdot Pr(D) \\cdot Pr_{G'}(H = 1 | D, R)\n",
    "    }{\n",
    "        Pr(P) \\cdot Pr_{G'}(R|P) \\cdot Pr(D) \\sum_h  Pr_{G'}(H = h | D, R)\n",
    "    } \\\\\n",
    "    &=\\sum_{d} \\frac{\n",
    "        Pr(P) \\cdot Pr_{G'}(R|P) \\cdot Pr(D) \n",
    "        \\cdot Pr_{G'}(H = 1 | D, R)\n",
    "    }{\n",
    "        Pr(P) \\cdot Pr_{G'}(R|P) \\cdot Pr(D) \\sum_h  Pr_{G'}(H = h | D, R)\n",
    "    } \\\\\n",
    "    &=\\sum_{d} \\frac{\n",
    "        Pr_{G'}(H = 1 | D, R)\n",
    "    }{\n",
    "        \\sum_h  Pr_{G'}(H = h | D, R)\n",
    "    } \\textrm{, as long as none of the cancelled terms is 0} \\\\\n",
    "    &=\\sum_{d} \\frac{\n",
    "        Pr_{G'}(H = 1 | D, R)\n",
    "    }{\n",
    "        \\sum_h  Pr_{G'}(H = h | D, R)\n",
    "    } \\textrm{, as long as none of the cancelled terms is 0} \\\\\n",
    "    &=\\sum_{d} \\frac{\n",
    "        Pr_{G}(H = 1 | D, R)\n",
    "    }{\n",
    "        \\sum_h  Pr_{G}(H = h | D, R)\n",
    "    } \\textrm{, since the events $(H | D=d, R=r)$ are unaffected by the ``do'' surgery} \\\\\n",
    "\\end{align*}\n",
    "\n",
    "For $Pr_{G}(H=1 | P, R)$ note that the only different terms are the ones in red-above, namely $Pr(D)$ from above is replaced by $Pr_G(D|P)$. As $Pr_G(D|P)$ is also independent of the value of $h$, we may similarly pull it outside of the summation over $h$. Provided these probabilities are also non-zero, we obtain\n",
    "\n",
    "\\begin{equation*}\n",
    "Pr_{G}(H=1 | P, R) = =\\sum_{d} \\frac{\n",
    "        Pr_{G}(H = 1 | D, R)\n",
    "    }{\n",
    "        \\sum_h  Pr_{G}(H = h | D, R)\n",
    "    }\n",
    "\\end{equation*}"
   ]
  },
  {
   "cell_type": "markdown",
   "metadata": {},
   "source": [
    "## Causal model example: hit rate"
   ]
  },
  {
   "cell_type": "code",
   "execution_count": 2,
   "metadata": {},
   "outputs": [],
   "source": [
    "datadir = Path(os.getcwd()) / 'data'"
   ]
  },
  {
   "cell_type": "code",
   "execution_count": 3,
   "metadata": {},
   "outputs": [
    {
     "name": "stdout",
     "output_type": "stream",
     "text": [
      "(5389, 4)\n"
     ]
    },
    {
     "data": {
      "text/html": [
       "<div>\n",
       "<style scoped>\n",
       "    .dataframe tbody tr th:only-of-type {\n",
       "        vertical-align: middle;\n",
       "    }\n",
       "\n",
       "    .dataframe tbody tr th {\n",
       "        vertical-align: top;\n",
       "    }\n",
       "\n",
       "    .dataframe thead th {\n",
       "        text-align: right;\n",
       "    }\n",
       "</style>\n",
       "<table border=\"1\" class=\"dataframe\">\n",
       "  <thead>\n",
       "    <tr style=\"text-align: right;\">\n",
       "      <th></th>\n",
       "      <th>producttype</th>\n",
       "      <th>days</th>\n",
       "      <th>rating</th>\n",
       "      <th>hit</th>\n",
       "    </tr>\n",
       "  </thead>\n",
       "  <tbody>\n",
       "    <tr>\n",
       "      <th>0</th>\n",
       "      <td>liability</td>\n",
       "      <td>0</td>\n",
       "      <td>0</td>\n",
       "      <td>1</td>\n",
       "    </tr>\n",
       "    <tr>\n",
       "      <th>1</th>\n",
       "      <td>liability</td>\n",
       "      <td>2</td>\n",
       "      <td>1</td>\n",
       "      <td>0</td>\n",
       "    </tr>\n",
       "    <tr>\n",
       "      <th>2</th>\n",
       "      <td>property</td>\n",
       "      <td>3</td>\n",
       "      <td>1</td>\n",
       "      <td>1</td>\n",
       "    </tr>\n",
       "    <tr>\n",
       "      <th>3</th>\n",
       "      <td>property</td>\n",
       "      <td>3</td>\n",
       "      <td>1</td>\n",
       "      <td>0</td>\n",
       "    </tr>\n",
       "    <tr>\n",
       "      <th>4</th>\n",
       "      <td>property</td>\n",
       "      <td>3</td>\n",
       "      <td>0</td>\n",
       "      <td>0</td>\n",
       "    </tr>\n",
       "  </tbody>\n",
       "</table>\n",
       "</div>"
      ],
      "text/plain": [
       "  producttype  days  rating  hit\n",
       "0   liability     0       0    1\n",
       "1   liability     2       1    0\n",
       "2    property     3       1    1\n",
       "3    property     3       1    0\n",
       "4    property     3       0    0"
      ]
     },
     "execution_count": 3,
     "metadata": {},
     "output_type": "execute_result"
    }
   ],
   "source": [
    "path_or_url = datadir / 'hits.csv'\n",
    "if not path_or_url.exists():\n",
    "    path_or_url = 'https://raw.githubusercontent.com/munichpavel/risk-ai-workshop/main/notebooks/data/hits.csv'\n",
    "df = pd.read_csv(path_or_url)\n",
    "print(df.shape)\n",
    "# Remove _ from column names and it messes with latex rendering\n",
    "column_names = df.columns\n",
    "column_names = [c.replace('_', '') for c in column_names]\n",
    "df.columns = column_names\n",
    "n_records = df.shape[0]\n",
    "df.head()"
   ]
  },
  {
   "cell_type": "code",
   "execution_count": 4,
   "metadata": {},
   "outputs": [
    {
     "data": {
      "image/svg+xml": [
       "<?xml version=\"1.0\" encoding=\"UTF-8\" standalone=\"no\"?>\n",
       "<!DOCTYPE svg PUBLIC \"-//W3C//DTD SVG 1.1//EN\"\n",
       " \"http://www.w3.org/Graphics/SVG/1.1/DTD/svg11.dtd\">\n",
       "<!-- Generated by graphviz version 11.0.0 (20240428.1522)\n",
       " -->\n",
       "<!-- Pages: 1 -->\n",
       "<svg width=\"294pt\" height=\"144pt\"\n",
       " viewBox=\"0.00 0.00 293.57 144.21\" xmlns=\"http://www.w3.org/2000/svg\" xmlns:xlink=\"http://www.w3.org/1999/xlink\">\n",
       "<g id=\"graph0\" class=\"graph\" transform=\"scale(1 1) rotate(0) translate(4 140.21)\">\n",
       "<polygon fill=\"white\" stroke=\"none\" points=\"-4,4 -4,-140.21 289.57,-140.21 289.57,4 -4,4\"/>\n",
       "<!-- producttype -->\n",
       "<g id=\"node1\" class=\"node\">\n",
       "<title>producttype</title>\n",
       "<ellipse fill=\"none\" stroke=\"black\" cx=\"56.05\" cy=\"-69.1\" rx=\"56.05\" ry=\"56.05\"/>\n",
       "<text text-anchor=\"middle\" x=\"56.05\" y=\"-63.68\" font-family=\"Times New Roman,serif\" font-size=\"14.00\">producttype</text>\n",
       "</g>\n",
       "<!-- days -->\n",
       "<g id=\"node2\" class=\"node\">\n",
       "<title>days</title>\n",
       "<ellipse fill=\"none\" stroke=\"black\" cx=\"179.21\" cy=\"-108.1\" rx=\"28.11\" ry=\"28.11\"/>\n",
       "<text text-anchor=\"middle\" x=\"179.21\" y=\"-102.68\" font-family=\"Times New Roman,serif\" font-size=\"14.00\">days</text>\n",
       "</g>\n",
       "<!-- producttype&#45;&gt;days -->\n",
       "<g id=\"edge2\" class=\"edge\">\n",
       "<title>producttype&#45;&gt;days</title>\n",
       "<path fill=\"none\" stroke=\"black\" d=\"M109.84,-86.1C120.5,-89.53 131.48,-93.06 141.44,-96.27\"/>\n",
       "<polygon fill=\"black\" stroke=\"black\" points=\"140.15,-99.53 150.74,-99.26 142.3,-92.87 140.15,-99.53\"/>\n",
       "</g>\n",
       "<!-- rating -->\n",
       "<g id=\"node3\" class=\"node\">\n",
       "<title>rating</title>\n",
       "<ellipse fill=\"none\" stroke=\"black\" cx=\"179.21\" cy=\"-31.1\" rx=\"31.1\" ry=\"31.1\"/>\n",
       "<text text-anchor=\"middle\" x=\"179.21\" y=\"-25.68\" font-family=\"Times New Roman,serif\" font-size=\"14.00\">rating</text>\n",
       "</g>\n",
       "<!-- producttype&#45;&gt;rating -->\n",
       "<g id=\"edge1\" class=\"edge\">\n",
       "<title>producttype&#45;&gt;rating</title>\n",
       "<path fill=\"none\" stroke=\"black\" d=\"M109.84,-52.55C119.45,-49.53 129.33,-46.43 138.48,-43.56\"/>\n",
       "<polygon fill=\"black\" stroke=\"black\" points=\"139.29,-46.98 147.78,-40.65 137.19,-40.3 139.29,-46.98\"/>\n",
       "</g>\n",
       "<!-- hit -->\n",
       "<g id=\"node4\" class=\"node\">\n",
       "<title>hit</title>\n",
       "<ellipse fill=\"none\" stroke=\"black\" cx=\"265.94\" cy=\"-69.1\" rx=\"19.63\" ry=\"19.63\"/>\n",
       "<text text-anchor=\"middle\" x=\"265.94\" y=\"-63.68\" font-family=\"Times New Roman,serif\" font-size=\"14.00\">hit</text>\n",
       "</g>\n",
       "<!-- days&#45;&gt;hit -->\n",
       "<g id=\"edge3\" class=\"edge\">\n",
       "<title>days&#45;&gt;hit</title>\n",
       "<path fill=\"none\" stroke=\"black\" d=\"M205.18,-96.61C215.32,-91.94 227.08,-86.53 237.46,-81.75\"/>\n",
       "<polygon fill=\"black\" stroke=\"black\" points=\"238.67,-85.05 246.29,-77.69 235.75,-78.69 238.67,-85.05\"/>\n",
       "</g>\n",
       "<!-- rating&#45;&gt;hit -->\n",
       "<g id=\"edge4\" class=\"edge\">\n",
       "<title>rating&#45;&gt;hit</title>\n",
       "<path fill=\"none\" stroke=\"black\" d=\"M207.96,-43.55C217.32,-47.75 227.78,-52.44 237.15,-56.64\"/>\n",
       "<polygon fill=\"black\" stroke=\"black\" points=\"235.58,-59.77 246.14,-60.67 238.45,-53.38 235.58,-59.77\"/>\n",
       "</g>\n",
       "</g>\n",
       "</svg>\n"
      ],
      "text/plain": [
       "<graphviz.graphs.Digraph at 0x21b8ab408c0>"
      ]
     },
     "execution_count": 4,
     "metadata": {},
     "output_type": "execute_result"
    }
   ],
   "source": [
    "dag = DAG(df).add_edge('producttype', 'rating').add_edge('producttype', 'days')\\\n",
    "    .add_edge('rating', 'hit').add_edge('days', 'hit')\n",
    "dag.plot()"
   ]
  },
  {
   "cell_type": "code",
   "execution_count": 5,
   "metadata": {},
   "outputs": [
    {
     "data": {
      "image/svg+xml": [
       "<?xml version=\"1.0\" encoding=\"UTF-8\" standalone=\"no\"?>\n",
       "<!DOCTYPE svg PUBLIC \"-//W3C//DTD SVG 1.1//EN\"\n",
       " \"http://www.w3.org/Graphics/SVG/1.1/DTD/svg11.dtd\">\n",
       "<!-- Generated by graphviz version 11.0.0 (20240428.1522)\n",
       " -->\n",
       "<!-- Pages: 1 -->\n",
       "<svg width=\"296pt\" height=\"152pt\"\n",
       " viewBox=\"0.00 0.00 295.58 152.21\" xmlns=\"http://www.w3.org/2000/svg\" xmlns:xlink=\"http://www.w3.org/1999/xlink\">\n",
       "<g id=\"graph0\" class=\"graph\" transform=\"scale(1 1) rotate(0) translate(4 148.21)\">\n",
       "<polygon fill=\"white\" stroke=\"none\" points=\"-4,4 -4,-148.21 291.58,-148.21 291.58,4 -4,4\"/>\n",
       "<!-- producttype -->\n",
       "<g id=\"node1\" class=\"node\">\n",
       "<title>producttype</title>\n",
       "<ellipse fill=\"none\" stroke=\"black\" cx=\"56.05\" cy=\"-71.1\" rx=\"56.05\" ry=\"56.05\"/>\n",
       "<text text-anchor=\"middle\" x=\"56.05\" y=\"-65.68\" font-family=\"Times New Roman,serif\" font-size=\"14.00\">producttype</text>\n",
       "</g>\n",
       "<!-- days -->\n",
       "<g id=\"node2\" class=\"node\">\n",
       "<title>days</title>\n",
       "<ellipse fill=\"none\" stroke=\"black\" cx=\"180.22\" cy=\"-112.1\" rx=\"28.11\" ry=\"28.11\"/>\n",
       "<ellipse fill=\"none\" stroke=\"black\" cx=\"180.22\" cy=\"-112.1\" rx=\"32.11\" ry=\"32.11\"/>\n",
       "<text text-anchor=\"middle\" x=\"180.22\" y=\"-106.68\" font-family=\"Times New Roman,serif\" font-size=\"14.00\">days</text>\n",
       "</g>\n",
       "<!-- producttype&#45;&gt;days -->\n",
       "<g id=\"edge2\" class=\"edge\">\n",
       "<title>producttype&#45;&gt;days</title>\n",
       "<path fill=\"none\" stroke=\"black\" d=\"M109.57,-88.73C119.23,-91.97 129.17,-95.31 138.42,-98.41\"/>\n",
       "<polygon fill=\"black\" stroke=\"black\" points=\"137.26,-101.71 147.85,-101.58 139.48,-95.08 137.26,-101.71\"/>\n",
       "</g>\n",
       "<!-- rating -->\n",
       "<g id=\"node3\" class=\"node\">\n",
       "<title>rating</title>\n",
       "<ellipse fill=\"none\" stroke=\"black\" cx=\"180.22\" cy=\"-31.1\" rx=\"31.1\" ry=\"31.1\"/>\n",
       "<text text-anchor=\"middle\" x=\"180.22\" y=\"-25.68\" font-family=\"Times New Roman,serif\" font-size=\"14.00\">rating</text>\n",
       "</g>\n",
       "<!-- producttype&#45;&gt;rating -->\n",
       "<g id=\"edge1\" class=\"edge\">\n",
       "<title>producttype&#45;&gt;rating</title>\n",
       "<path fill=\"none\" stroke=\"black\" d=\"M109.57,-53.91C119.61,-50.62 129.97,-47.23 139.52,-44.1\"/>\n",
       "<polygon fill=\"black\" stroke=\"black\" points=\"140.45,-47.48 148.87,-41.04 138.27,-40.83 140.45,-47.48\"/>\n",
       "</g>\n",
       "<!-- hit -->\n",
       "<g id=\"node4\" class=\"node\">\n",
       "<title>hit</title>\n",
       "<ellipse fill=\"none\" stroke=\"black\" cx=\"267.96\" cy=\"-71.1\" rx=\"19.63\" ry=\"19.63\"/>\n",
       "<text text-anchor=\"middle\" x=\"267.96\" y=\"-65.68\" font-family=\"Times New Roman,serif\" font-size=\"14.00\">hit</text>\n",
       "</g>\n",
       "<!-- days&#45;&gt;hit -->\n",
       "<g id=\"edge3\" class=\"edge\">\n",
       "<title>days&#45;&gt;hit</title>\n",
       "<path fill=\"none\" stroke=\"black\" d=\"M209.77,-98.45C219.39,-93.85 230.11,-88.72 239.64,-84.17\"/>\n",
       "<polygon fill=\"black\" stroke=\"black\" points=\"240.9,-87.45 248.41,-79.97 237.88,-81.13 240.9,-87.45\"/>\n",
       "</g>\n",
       "<!-- rating&#45;&gt;hit -->\n",
       "<g id=\"edge4\" class=\"edge\">\n",
       "<title>rating&#45;&gt;hit</title>\n",
       "<path fill=\"none\" stroke=\"black\" d=\"M208.82,-43.98C218.56,-48.53 229.52,-53.64 239.27,-58.19\"/>\n",
       "<polygon fill=\"black\" stroke=\"black\" points=\"237.73,-61.33 248.27,-62.39 240.69,-54.99 237.73,-61.33\"/>\n",
       "</g>\n",
       "</g>\n",
       "</svg>\n"
      ],
      "text/plain": [
       "<graphviz.graphs.Digraph at 0x21b9381d010>"
      ]
     },
     "execution_count": 5,
     "metadata": {},
     "output_type": "execute_result"
    }
   ],
   "source": [
    "q_given = Query(dag).given(days=1)\n",
    "q_given.plot()"
   ]
  },
  {
   "cell_type": "code",
   "execution_count": 6,
   "metadata": {},
   "outputs": [
    {
     "data": {
      "image/svg+xml": [
       "<?xml version=\"1.0\" encoding=\"UTF-8\" standalone=\"no\"?>\n",
       "<!DOCTYPE svg PUBLIC \"-//W3C//DTD SVG 1.1//EN\"\n",
       " \"http://www.w3.org/Graphics/SVG/1.1/DTD/svg11.dtd\">\n",
       "<!-- Generated by graphviz version 11.0.0 (20240428.1522)\n",
       " -->\n",
       "<!-- Pages: 1 -->\n",
       "<svg width=\"296pt\" height=\"177pt\"\n",
       " viewBox=\"0.00 0.00 295.58 177.16\" xmlns=\"http://www.w3.org/2000/svg\" xmlns:xlink=\"http://www.w3.org/1999/xlink\">\n",
       "<g id=\"graph0\" class=\"graph\" transform=\"scale(1 1) rotate(0) translate(4 173.16)\">\n",
       "<polygon fill=\"white\" stroke=\"none\" points=\"-4,4 -4,-173.16 291.58,-173.16 291.58,4 -4,4\"/>\n",
       "<!-- producttype -->\n",
       "<g id=\"node1\" class=\"node\">\n",
       "<title>producttype</title>\n",
       "<ellipse fill=\"none\" stroke=\"black\" cx=\"56.05\" cy=\"-56.05\" rx=\"56.05\" ry=\"56.05\"/>\n",
       "<text text-anchor=\"middle\" x=\"56.05\" y=\"-50.63\" font-family=\"Times New Roman,serif\" font-size=\"14.00\">producttype</text>\n",
       "</g>\n",
       "<!-- days -->\n",
       "<g id=\"node2\" class=\"node\">\n",
       "<title>days</title>\n",
       "<ellipse fill=\"none\" stroke=\"black\" cx=\"180.22\" cy=\"-137.05\" rx=\"28.11\" ry=\"28.11\"/>\n",
       "<ellipse fill=\"none\" stroke=\"black\" cx=\"180.22\" cy=\"-137.05\" rx=\"32.11\" ry=\"32.11\"/>\n",
       "<text text-anchor=\"middle\" x=\"180.22\" y=\"-131.63\" font-family=\"Times New Roman,serif\" font-size=\"14.00\">days</text>\n",
       "</g>\n",
       "<!-- producttype&#45;&gt;days -->\n",
       "<g id=\"edge3\" class=\"edge\">\n",
       "<title>producttype&#45;&gt;days</title>\n",
       "<path fill=\"none\" stroke=\"lightgray\" stroke-dasharray=\"5,2\" d=\"M103.24,-86.68C116.59,-95.53 130.96,-105.05 143.56,-113.41\"/>\n",
       "<polygon fill=\"lightgray\" stroke=\"lightgray\" points=\"141.28,-116.1 151.55,-118.71 145.15,-110.27 141.28,-116.1\"/>\n",
       "</g>\n",
       "<!-- rating -->\n",
       "<g id=\"node4\" class=\"node\">\n",
       "<title>rating</title>\n",
       "<ellipse fill=\"none\" stroke=\"black\" cx=\"180.22\" cy=\"-56.05\" rx=\"31.1\" ry=\"31.1\"/>\n",
       "<text text-anchor=\"middle\" x=\"180.22\" y=\"-50.63\" font-family=\"Times New Roman,serif\" font-size=\"14.00\">rating</text>\n",
       "</g>\n",
       "<!-- producttype&#45;&gt;rating -->\n",
       "<g id=\"edge2\" class=\"edge\">\n",
       "<title>producttype&#45;&gt;rating</title>\n",
       "<path fill=\"none\" stroke=\"black\" d=\"M112.42,-56.05C120.82,-56.05 129.36,-56.05 137.41,-56.05\"/>\n",
       "<polygon fill=\"black\" stroke=\"black\" points=\"137.25,-59.55 147.25,-56.05 137.25,-52.55 137.25,-59.55\"/>\n",
       "</g>\n",
       "<!-- hit -->\n",
       "<g id=\"node5\" class=\"node\">\n",
       "<title>hit</title>\n",
       "<ellipse fill=\"none\" stroke=\"black\" cx=\"267.96\" cy=\"-96.05\" rx=\"19.63\" ry=\"19.63\"/>\n",
       "<text text-anchor=\"middle\" x=\"267.96\" y=\"-90.63\" font-family=\"Times New Roman,serif\" font-size=\"14.00\">hit</text>\n",
       "</g>\n",
       "<!-- days&#45;&gt;hit -->\n",
       "<g id=\"edge4\" class=\"edge\">\n",
       "<title>days&#45;&gt;hit</title>\n",
       "<path fill=\"none\" stroke=\"black\" d=\"M209.77,-123.4C219.39,-118.8 230.11,-113.67 239.64,-109.12\"/>\n",
       "<polygon fill=\"black\" stroke=\"black\" points=\"240.9,-112.4 248.41,-104.92 237.88,-106.08 240.9,-112.4\"/>\n",
       "</g>\n",
       "<!--   -->\n",
       "<g id=\"node3\" class=\"node\">\n",
       "<title> </title>\n",
       "<text text-anchor=\"middle\" x=\"56.05\" y=\"-142.63\" font-family=\"Times New Roman,serif\" font-size=\"14.00\"> </text>\n",
       "</g>\n",
       "<!--  &#45;&gt;days -->\n",
       "<g id=\"edge1\" class=\"edge\">\n",
       "<title> &#45;&gt;days</title>\n",
       "<path fill=\"none\" stroke=\"black\" d=\"M82.96,-145.72C98.59,-144.31 118.88,-142.49 136.79,-140.87\"/>\n",
       "<polygon fill=\"black\" stroke=\"black\" points=\"137,-144.37 146.65,-139.99 136.37,-137.4 137,-144.37\"/>\n",
       "</g>\n",
       "<!-- rating&#45;&gt;hit -->\n",
       "<g id=\"edge5\" class=\"edge\">\n",
       "<title>rating&#45;&gt;hit</title>\n",
       "<path fill=\"none\" stroke=\"black\" d=\"M208.82,-68.93C218.56,-73.48 229.52,-78.59 239.27,-83.14\"/>\n",
       "<polygon fill=\"black\" stroke=\"black\" points=\"237.73,-86.28 248.27,-87.34 240.69,-79.94 237.73,-86.28\"/>\n",
       "</g>\n",
       "</g>\n",
       "</svg>\n"
      ],
      "text/plain": [
       "<graphviz.graphs.Digraph at 0x21b935b7b30>"
      ]
     },
     "execution_count": 6,
     "metadata": {},
     "output_type": "execute_result"
    }
   ],
   "source": [
    "q_do = Query(dag).do(days=1)\n",
    "q_do.plot()"
   ]
  },
  {
   "cell_type": "markdown",
   "metadata": {},
   "source": [
    "### Probability equations\n",
    "\n",
    "for the two graphs, the original, $G$, and the ``do'' one, $G'$. If the calculation applies to both graphs, we write $P_{G, G'}$.\n",
    "\n",
    "$$\\begin{align}\n",
    "P_{G, G'}(H=1 | D=d) &= \\sum_{p, r} P_{G, G'}(H=1 | D=d, P=p, R=r) P_{G, G'}(P=p, R=r | D=d)\n",
    "\\end{align}$$\n",
    "\n",
    "by the law of total probability, aka conditioning trick.\n",
    "\n",
    "Only for $G'$ do we have $P_{G'}(P = p, R = r | D = d) = P_{G'}(P = p, R = r)$, as the pair $P, R$ are independent of $D$ in the subgraph of $G'$ (no edge).\n",
    "\n",
    "Hence we have \n",
    "\n",
    "$$\\begin{align}\n",
    "P_{G}(H=1 | D=d) &= \\sum_{p, r} P_{G}(H=1 | D=d, P=p, R=r) \\color{red}{P_{G}(P=p, R=r | D=d)}\n",
    "\\end{align}$$\n",
    "\n",
    "for $G$, but for $G'$\n",
    "\n",
    "$$\\begin{align}\n",
    "P_{G'}(H=1 | D=d) &= \\sum_{p, r} P_{G'}(H=1 | D=d, P=p, R=r) \\color{red}{P_{G'}(P=p, R=r)}\n",
    "\\end{align}$$\n",
    "\n",
    "Using equalities from lecture, have right-hand side now in terms of original graph $G$:\n",
    "\n",
    "$$\\begin{equation}\n",
    "P_{G'}(H=1 | D=d) = \\sum_{p, r} P_{G}(H=1 | D=d, P=p, R=r) P_{G}(P=p, R=r)\n",
    "\\end{equation}$$\n",
    "\n",
    "Before calculating the whole right-hand-sides, let's convince ourselves that there is a difference between the two differing terms from $G$ to $G'$.\n",
    "\n",
    "In the $G'$ expression we can use the law of total probability again to see"
   ]
  },
  {
   "cell_type": "code",
   "execution_count": 7,
   "metadata": {},
   "outputs": [
    {
     "data": {
      "text/plain": [
       "producttype  rating\n",
       "financial    0         0.040453\n",
       "             1         0.169605\n",
       "liability    0         0.339210\n",
       "             1         0.149935\n",
       "property     0         0.120059\n",
       "             1         0.180739\n",
       "dtype: float64"
      ]
     },
     "execution_count": 7,
     "metadata": {},
     "output_type": "execute_result"
    }
   ],
   "source": [
    "# P_G(P=p, R=r)\n",
    "P_Gpr = df.groupby(['producttype', 'rating']).size() / n_records\n",
    "P_Gpr"
   ]
  },
  {
   "cell_type": "code",
   "execution_count": 8,
   "metadata": {},
   "outputs": [],
   "source": [
    "# P_G(P=p, R=r | D=d)\n",
    "P_Gpr_given_ds = []\n",
    "for d in range(4):\n",
    "    df_mask_d = df['days'] == d\n",
    "    n_records_d = sum(df_mask_d)\n",
    "    P_Gpr_given_d = df.loc[df_mask_d].groupby(['producttype', 'rating', 'days']).size() / n_records_d\n",
    "    P_Gpr_given_ds.append(P_Gpr_given_d)\n",
    "\n",
    "# Non-do calculation, 2nd term in product\n",
    "p_pr_given_ds = pd.concat(P_Gpr_given_ds, axis=0)\n",
    "p_pr_given_ds.name = 'hit'"
   ]
  },
  {
   "cell_type": "code",
   "execution_count": 9,
   "metadata": {},
   "outputs": [
    {
     "data": {
      "text/plain": [
       "producttype  rating  days\n",
       "financial    0       0       0.091294\n",
       "             1       0       0.374588\n",
       "liability    0       0       0.343059\n",
       "             1       0       0.143529\n",
       "property     0       0       0.016941\n",
       "             1       0       0.030588\n",
       "financial    0       1       0.017527\n",
       "             1       1       0.079844\n",
       "liability    0       1       0.510224\n",
       "             1       1       0.252191\n",
       "property     0       1       0.062317\n",
       "             1       1       0.077897\n",
       "financial    0       2       0.002413\n",
       "             1       2       0.015682\n",
       "liability    0       2       0.533172\n",
       "             1       2       0.225573\n",
       "property     0       2       0.095296\n",
       "             1       2       0.127865\n",
       "financial    0       3       0.002841\n",
       "             1       3       0.016335\n",
       "liability    0       3       0.094460\n",
       "             1       3       0.040483\n",
       "property     0       3       0.332386\n",
       "             1       3       0.513494\n",
       "Name: hit, dtype: float64"
      ]
     },
     "execution_count": 9,
     "metadata": {},
     "output_type": "execute_result"
    }
   ],
   "source": [
    "p_pr_given_ds"
   ]
  },
  {
   "cell_type": "markdown",
   "metadata": {},
   "source": [
    "If the red terms in the above equations were identical, then the values for each group of rows with fixed $D=d$ would be identical copies of the above variable `P_Gpr`."
   ]
  },
  {
   "cell_type": "markdown",
   "metadata": {},
   "source": [
    "The probabilities do indeed differ across different $D=d$ values, so the ``do'' probabilities from $G'$ are different from the non-do probabilities from $G$."
   ]
  },
  {
   "cell_type": "code",
   "execution_count": 10,
   "metadata": {},
   "outputs": [],
   "source": [
    "# tu preverjamo da je P(product_type = financial, rating = 0) = sum po vseh d P(product_type = financial, rating = 0, days = d)\n",
    "# Sanity check on P_G(P=p, R=r | D=d) and P_G(P=p, R=r) calculations\n",
    "# assertion will fail if law of total probability does not hold\n",
    "idx_pr = ['financial', 0]\n",
    "\n",
    "expected_P_Gpr = P_Gpr.loc[tuple(idx_pr)]\n",
    "\n",
    "P_Gd = df.groupby(['days']).size() / n_records\n",
    "cond_prob_sum = 0\n",
    "for d, P_Gpr_given_d in enumerate(P_Gpr_given_ds):\n",
    "    idx_prd = tuple(idx_pr + [d])\n",
    "    \n",
    "    cond_prob_sum += P_Gpr_given_d.loc[idx_prd] * P_Gd.loc[d]\n",
    "assert cond_prob_sum == pytest.approx(expected_P_Gpr), f'Conditional proby sum {cond_prob_sum} does not match expected {expected_P_Gpr}'"
   ]
  },
  {
   "cell_type": "markdown",
   "metadata": {},
   "source": [
    "#### Calculation of $P_G(H=1 | D=d, P=p, R=r)$\n",
    "\n",
    "Can use, e.g.\n",
    "\n",
    "$$\\begin{equation}\n",
    "P_G(H=1 | P=p, D=d, R=r) = \\frac{P_G(P=p, D=d, R=r, H=1)}{P_G(P=p, D=d, R=r)}\n",
    "\\end{equation}$$"
   ]
  },
  {
   "cell_type": "code",
   "execution_count": 16,
   "metadata": {},
   "outputs": [
    {
     "data": {
      "text/plain": [
       "producttype  rating  days\n",
       "financial    0       0       0.778351\n",
       "                     1       0.666667\n",
       "                     2       0.000000\n",
       "                     3       0.500000\n",
       "             1       0       0.317839\n",
       "                     1       0.158537\n",
       "                     2       0.000000\n",
       "                     3       0.000000\n",
       "liability    0       0       0.799726\n",
       "                     1       0.622137\n",
       "                     2       0.511312\n",
       "                     3       0.428571\n",
       "             1       0       0.301639\n",
       "                     1       0.196911\n",
       "                     2       0.053476\n",
       "                     3       0.017544\n",
       "property     0       0       0.805556\n",
       "                     1       0.593750\n",
       "                     2       0.405063\n",
       "                     3       0.378205\n",
       "             1       0       0.369231\n",
       "                     1       0.175000\n",
       "                     2       0.056604\n",
       "                     3       0.011065\n",
       "Name: hit, dtype: float64"
      ]
     },
     "execution_count": 16,
     "metadata": {},
     "output_type": "execute_result"
    }
   ],
   "source": [
    "hit_given_prd = df.groupby(['producttype', 'rating', 'days'])\n",
    "hit_given_prd = hit_given_prd['hit'].mean()\n",
    "hit_given_prd"
   ]
  },
  {
   "cell_type": "code",
   "execution_count": 11,
   "metadata": {},
   "outputs": [
    {
     "data": {
      "text/plain": [
       "days\n",
       "0    0.565343\n",
       "1    0.397330\n",
       "2    0.240322\n",
       "3    0.215639\n",
       "Name: prob, dtype: float64"
      ]
     },
     "execution_count": 11,
     "metadata": {},
     "output_type": "execute_result"
    }
   ],
   "source": [
    "# P(H=1 | do(D)=d) = \\sum P(H=1 | D=d, P=p, R=r) * P(P=p, R=r)\n",
    "\n",
    "# First term in sum\n",
    "hit_given_prd = df.groupby(['producttype', 'rating', 'days'])\n",
    "hit_given_prd = hit_given_prd['hit'].mean()\n",
    "\n",
    "# 2nd sum in P(H=1 | do(D)=1)\n",
    "pr = df.groupby(['producttype', 'rating'])\n",
    "p_pr = pr['hit'].count()\n",
    "p_pr = p_pr / df.shape[0]\n",
    "\n",
    "# Combine\n",
    "hit_given_prd = hit_given_prd.reset_index()\n",
    "p_pr = p_pr.reset_index()\n",
    "\n",
    "res_do = pd.merge(hit_given_prd, p_pr, on=['producttype', 'rating'])\n",
    "res_do['prob'] = res_do['hit_x'] * res_do['hit_y']\n",
    "\n",
    "res_do_grouped = res_do.groupby('days')\n",
    "res_do_sum = res_do_grouped['prob'].sum()\n",
    "res_do_sum"
   ]
  },
  {
   "cell_type": "markdown",
   "metadata": {},
   "source": [
    "### Quick calculation of $P(H=1 | D=d)$\n",
    "\n",
    "but not helpful for debugging, convincing myself that the results are correct"
   ]
  },
  {
   "cell_type": "code",
   "execution_count": 12,
   "metadata": {},
   "outputs": [],
   "source": [
    "# P(H=1 | D=d)\n",
    "hit_given_d = df.groupby(['days'])\n",
    "hit_given_d = hit_given_d['hit'].mean()"
   ]
  },
  {
   "cell_type": "markdown",
   "metadata": {},
   "source": [
    "In more detail for debugging / sanity-checking"
   ]
  },
  {
   "cell_type": "code",
   "execution_count": 13,
   "metadata": {},
   "outputs": [],
   "source": [
    "# Non-causal, first term in product different\n",
    "# Non-do calculation, 2nd term in product\n",
    "\n",
    "p_pr_given_ds = p_pr_given_ds.reset_index()\n",
    "res_given = pd.merge(hit_given_prd, p_pr_given_ds, on=['producttype', 'rating', 'days'])\n",
    "res_given['prob'] = res_given['hit_x'] * res_given['hit_y']\n",
    "res_given_grouped = res_given.groupby('days')\n",
    "res_given_sum = res_given_grouped['prob'].sum()"
   ]
  },
  {
   "cell_type": "markdown",
   "metadata": {},
   "source": [
    "### Calculate average treatment effect (ATE)"
   ]
  },
  {
   "cell_type": "code",
   "execution_count": 14,
   "metadata": {},
   "outputs": [
    {
     "data": {
      "text/html": [
       "<div>\n",
       "<style scoped>\n",
       "    .dataframe tbody tr th:only-of-type {\n",
       "        vertical-align: middle;\n",
       "    }\n",
       "\n",
       "    .dataframe tbody tr th {\n",
       "        vertical-align: top;\n",
       "    }\n",
       "\n",
       "    .dataframe thead th {\n",
       "        text-align: right;\n",
       "    }\n",
       "</style>\n",
       "<table border=\"1\" class=\"dataframe\">\n",
       "  <thead>\n",
       "    <tr style=\"text-align: right;\">\n",
       "      <th></th>\n",
       "      <th>from-d</th>\n",
       "      <th>to-d</th>\n",
       "      <th>ate-given</th>\n",
       "      <th>ate-do</th>\n",
       "    </tr>\n",
       "  </thead>\n",
       "  <tbody>\n",
       "    <tr>\n",
       "      <th>0</th>\n",
       "      <td>0</td>\n",
       "      <td>1</td>\n",
       "      <td>0.170153</td>\n",
       "      <td>0.297187</td>\n",
       "    </tr>\n",
       "    <tr>\n",
       "      <th>1</th>\n",
       "      <td>1</td>\n",
       "      <td>2</td>\n",
       "      <td>0.252329</td>\n",
       "      <td>0.395158</td>\n",
       "    </tr>\n",
       "    <tr>\n",
       "      <th>2</th>\n",
       "      <td>2</td>\n",
       "      <td>3</td>\n",
       "      <td>0.473538</td>\n",
       "      <td>0.102707</td>\n",
       "    </tr>\n",
       "  </tbody>\n",
       "</table>\n",
       "</div>"
      ],
      "text/plain": [
       "   from-d  to-d  ate-given    ate-do\n",
       "0       0     1   0.170153  0.297187\n",
       "1       1     2   0.252329  0.395158\n",
       "2       2     3   0.473538  0.102707"
      ]
     },
     "execution_count": 14,
     "metadata": {},
     "output_type": "execute_result"
    }
   ],
   "source": [
    "ates = []\n",
    "ds = range(3)\n",
    "for d in ds:\n",
    "    rel_ate_do = (res_do_sum[d] - res_do_sum[d + 1]) / res_do_sum[d]\n",
    "    rel_ate_given = (res_given_sum[d] - res_given_sum[d + 1]) / res_given_sum[d]\n",
    "    ates.append({'from-d': d, 'to-d': d+1, 'ate-given': rel_ate_given, 'ate-do': rel_ate_do})\n",
    "ates_df = pd.DataFrame(ates)\n",
    "ates_df"
   ]
  },
  {
   "cell_type": "markdown",
   "metadata": {},
   "source": [
    "## Causal models exercise: correlation\n",
    "\n",
    "Reproduce and try to break the spurious correlation between deaths by poisonous spider bites and the lenghts of winning words in the Scripps national spelling bee.\n",
    "\n",
    "The fatality data from the CDC can be found here: `notebooks/data/cdc-underlying-cause-of-death-1998-2018.txt`, and the spelling bee data can be found below.\n",
    "\n",
    "Difficulty: **"
   ]
  },
  {
   "cell_type": "code",
   "execution_count": 19,
   "metadata": {},
   "outputs": [],
   "source": [
    "# From https://en.wiktionary.org/wiki/Appendix:Scripps_winning_words\n",
    "scripps_winners_raw = '''\n",
    "    1925: gladiolus\n",
    "    1926: abrogate\n",
    "    1927: luxuriance\n",
    "    1928: albumen\n",
    "    1929: asceticism\n",
    "    1930: fracas\n",
    "    1931: foulard\n",
    "    1932: knack\n",
    "    1933: torsion\n",
    "    1934: deteriorating\n",
    "    1935: intelligible\n",
    "    1936: interning\n",
    "    1937: promiscuous\n",
    "    1938: sanitarium\n",
    "    1939: canonical\n",
    "    1940: therapy\n",
    "    1941: initials\n",
    "    1942: sacrilegious\n",
    "\n",
    "The Bee was suspended during the WWII years of 1943–1945.\n",
    "\n",
    "    1946: semaphore\n",
    "    1947: chlorophyll\n",
    "    1948: psychiatry\n",
    "    1949: dulcimer\n",
    "    1950: meerschaum [1] / meticulosity\n",
    "    1951: insouciant\n",
    "    1952: vignette\n",
    "    1953: soubrette\n",
    "    1954: transept\n",
    "    1955: crustaceology\n",
    "    1956: condominium\n",
    "    1957: n/a [2]\n",
    "    1958: syllepsis\n",
    "    1959: catamaran\n",
    "    1960: eudaemonic\n",
    "    1961: smaragdine\n",
    "    1962: n/a [3]\n",
    "    1963: equipage\n",
    "    1964: sycophant\n",
    "    1965: eczema\n",
    "    1966: ratoon\n",
    "    1967: chihuahua\n",
    "    1968: abalone\n",
    "    1969: interlocutory\n",
    "    1970: croissant\n",
    "    1971: shalloon\n",
    "    1972: macerate\n",
    "\n",
    "    1973: vouchsafe\n",
    "    1974: hydrophyte\n",
    "    1975: incisor\n",
    "    1976: narcolepsy\n",
    "    1977: cambist\n",
    "    1978: deification\n",
    "    1979: maculature\n",
    "    1980: elucubrate\n",
    "    1981: sarcophagus\n",
    "    1982: psoriasis\n",
    "    1983: Purim\n",
    "    1984: luge\n",
    "    1985: milieu\n",
    "    1986: odontalgia\n",
    "    1987: staphylococci\n",
    "    1988: elegiacal\n",
    "    1989: spoliator\n",
    "    1990: fibranne\n",
    "    1991: antipyretic\n",
    "    1992: lyceum\n",
    "    1993: kamikaze\n",
    "    1994: antediluvian\n",
    "    1995: xanthosis\n",
    "    1996: vivisepulture\n",
    "    1997: euonym\n",
    "    1998: chiaroscurist\n",
    "    1999: logorrhea\n",
    "    2000: demarche\n",
    "    2001: succedaneum\n",
    "    2002: prospicience\n",
    "    2003: pococurante\n",
    "    2004: autochthonous\n",
    "    2005: appoggiatura\n",
    "    2006: Ursprache\n",
    "    2007: serrefine\n",
    "    2008: guerdon\n",
    "    2009: Laodicean\n",
    "    2010: stromuhr\n",
    "    2011: cymotrichous\n",
    "    2012: guetapens\n",
    "    2013: knaidel\n",
    "    2014: stichomythia / feuilleton\n",
    "    2015: scherenschnitte / nunatak\n",
    "    2016: Feldenkrais / gesellschaft\n",
    "    2017: marocain\n",
    "    2018: koinonia\n",
    "    2019: auslaut / erysipelas / bougainvillea [4] / aiguillette / pendeloque / palama / cernuous / odylic\n",
    "'''"
   ]
  },
  {
   "cell_type": "code",
   "execution_count": 22,
   "metadata": {},
   "outputs": [],
   "source": [
    "import re"
   ]
  },
  {
   "cell_type": "code",
   "execution_count": 23,
   "metadata": {},
   "outputs": [],
   "source": [
    "# Extracting years and winning words\n",
    "winners = re.findall(r'(\\d{4}): (.+)', scripps_winners_raw)\n",
    "\n",
    "# Creating a dictionary with year as key and winning word(s) as value\n",
    "winners_dict = {int(year): words.split(' / ') for year, words in winners}\n",
    "\n",
    "# Calculating lengths of winning words\n",
    "winners_lengths = {year: max(len(word) for word in words) for year, words in winners_dict.items()}"
   ]
  },
  {
   "cell_type": "code",
   "execution_count": 37,
   "metadata": {},
   "outputs": [
    {
     "data": {
      "text/html": [
       "<div>\n",
       "<style scoped>\n",
       "    .dataframe tbody tr th:only-of-type {\n",
       "        vertical-align: middle;\n",
       "    }\n",
       "\n",
       "    .dataframe tbody tr th {\n",
       "        vertical-align: top;\n",
       "    }\n",
       "\n",
       "    .dataframe thead th {\n",
       "        text-align: right;\n",
       "    }\n",
       "</style>\n",
       "<table border=\"1\" class=\"dataframe\">\n",
       "  <thead>\n",
       "    <tr style=\"text-align: right;\">\n",
       "      <th></th>\n",
       "      <th>Notes</th>\n",
       "      <th>Year</th>\n",
       "      <th>Year Code</th>\n",
       "      <th>Cause of death</th>\n",
       "      <th>Cause of death Code</th>\n",
       "      <th>Deaths</th>\n",
       "      <th>Population</th>\n",
       "      <th>Crude Rate</th>\n",
       "    </tr>\n",
       "  </thead>\n",
       "  <tbody>\n",
       "    <tr>\n",
       "      <th>0</th>\n",
       "      <td>NaN</td>\n",
       "      <td>1999.0</td>\n",
       "      <td>1999.0</td>\n",
       "      <td>Struck by thrown, projected or falling object</td>\n",
       "      <td>W20</td>\n",
       "      <td>701.0</td>\n",
       "      <td>279040168.0</td>\n",
       "      <td>0.3</td>\n",
       "    </tr>\n",
       "    <tr>\n",
       "      <th>1</th>\n",
       "      <td>NaN</td>\n",
       "      <td>1999.0</td>\n",
       "      <td>1999.0</td>\n",
       "      <td>Striking against or struck by sports equipment</td>\n",
       "      <td>W21</td>\n",
       "      <td>10.0</td>\n",
       "      <td>279040168.0</td>\n",
       "      <td>Unreliable</td>\n",
       "    </tr>\n",
       "    <tr>\n",
       "      <th>2</th>\n",
       "      <td>NaN</td>\n",
       "      <td>1999.0</td>\n",
       "      <td>1999.0</td>\n",
       "      <td>Striking against or struck by other objects</td>\n",
       "      <td>W22</td>\n",
       "      <td>131.0</td>\n",
       "      <td>279040168.0</td>\n",
       "      <td>0.0</td>\n",
       "    </tr>\n",
       "    <tr>\n",
       "      <th>3</th>\n",
       "      <td>NaN</td>\n",
       "      <td>1999.0</td>\n",
       "      <td>1999.0</td>\n",
       "      <td>Caught, crushed, jammed or pinched in or betwe...</td>\n",
       "      <td>W23</td>\n",
       "      <td>93.0</td>\n",
       "      <td>279040168.0</td>\n",
       "      <td>0.0</td>\n",
       "    </tr>\n",
       "    <tr>\n",
       "      <th>4</th>\n",
       "      <td>NaN</td>\n",
       "      <td>1999.0</td>\n",
       "      <td>1999.0</td>\n",
       "      <td>Contact with lifting and transmission devices,...</td>\n",
       "      <td>W24</td>\n",
       "      <td>117.0</td>\n",
       "      <td>279040168.0</td>\n",
       "      <td>0.0</td>\n",
       "    </tr>\n",
       "  </tbody>\n",
       "</table>\n",
       "</div>"
      ],
      "text/plain": [
       "  Notes    Year  Year Code                                     Cause of death  \\\n",
       "0   NaN  1999.0     1999.0      Struck by thrown, projected or falling object   \n",
       "1   NaN  1999.0     1999.0     Striking against or struck by sports equipment   \n",
       "2   NaN  1999.0     1999.0        Striking against or struck by other objects   \n",
       "3   NaN  1999.0     1999.0  Caught, crushed, jammed or pinched in or betwe...   \n",
       "4   NaN  1999.0     1999.0  Contact with lifting and transmission devices,...   \n",
       "\n",
       "  Cause of death Code  Deaths   Population  Crude Rate  \n",
       "0                 W20   701.0  279040168.0         0.3  \n",
       "1                 W21    10.0  279040168.0  Unreliable  \n",
       "2                 W22   131.0  279040168.0         0.0  \n",
       "3                 W23    93.0  279040168.0         0.0  \n",
       "4                 W24   117.0  279040168.0         0.0  "
      ]
     },
     "execution_count": 37,
     "metadata": {},
     "output_type": "execute_result"
    }
   ],
   "source": [
    "# Load the CDC fatality data\n",
    "cdc_data = pd.read_csv(datadir / 'cdc-underlying-cause-of-death-1998-2018.txt', sep = \"\\t\")\n",
    "cdc_data.head()"
   ]
  },
  {
   "cell_type": "code",
   "execution_count": 48,
   "metadata": {},
   "outputs": [],
   "source": [
    "spider_deaths = cdc_data[cdc_data['Cause of death'] == \"Contact with venomous spiders\"]"
   ]
  },
  {
   "cell_type": "code",
   "execution_count": 57,
   "metadata": {},
   "outputs": [
    {
     "name": "stderr",
     "output_type": "stream",
     "text": [
      "C:\\Users\\Ana\\AppData\\Local\\Temp\\ipykernel_14356\\641228708.py:1: SettingWithCopyWarning: \n",
      "A value is trying to be set on a copy of a slice from a DataFrame.\n",
      "Try using .loc[row_indexer,col_indexer] = value instead\n",
      "\n",
      "See the caveats in the documentation: https://pandas.pydata.org/pandas-docs/stable/user_guide/indexing.html#returning-a-view-versus-a-copy\n",
      "  spider_deaths[\"percentage\"] = spider_deaths[\"Deaths\"] / spider_deaths[\"Population\"]\n"
     ]
    }
   ],
   "source": [
    "spider_deaths[\"percentage\"] = spider_deaths[\"Deaths\"] / spider_deaths[\"Population\"]"
   ]
  },
  {
   "cell_type": "code",
   "execution_count": 58,
   "metadata": {},
   "outputs": [
    {
     "name": "stderr",
     "output_type": "stream",
     "text": [
      "C:\\Users\\Ana\\AppData\\Local\\Temp\\ipykernel_14356\\4127029062.py:2: SettingWithCopyWarning: \n",
      "A value is trying to be set on a copy of a slice from a DataFrame.\n",
      "Try using .loc[row_indexer,col_indexer] = value instead\n",
      "\n",
      "See the caveats in the documentation: https://pandas.pydata.org/pandas-docs/stable/user_guide/indexing.html#returning-a-view-versus-a-copy\n",
      "  spider_deaths['Year'] = spider_deaths['Year'].astype(int)\n"
     ]
    }
   ],
   "source": [
    "# Convert year column to integer\n",
    "spider_deaths['Year'] = spider_deaths['Year'].astype(int)\n",
    "\n",
    "# Merge spider deaths data with winners lengths\n",
    "merged_data = pd.merge(spider_deaths, pd.DataFrame(winners_lengths.items(), columns=['Year', 'Word Length']), on='Year')\n"
   ]
  },
  {
   "cell_type": "code",
   "execution_count": 60,
   "metadata": {},
   "outputs": [
    {
     "data": {
      "text/html": [
       "<div>\n",
       "<style scoped>\n",
       "    .dataframe tbody tr th:only-of-type {\n",
       "        vertical-align: middle;\n",
       "    }\n",
       "\n",
       "    .dataframe tbody tr th {\n",
       "        vertical-align: top;\n",
       "    }\n",
       "\n",
       "    .dataframe thead th {\n",
       "        text-align: right;\n",
       "    }\n",
       "</style>\n",
       "<table border=\"1\" class=\"dataframe\">\n",
       "  <thead>\n",
       "    <tr style=\"text-align: right;\">\n",
       "      <th></th>\n",
       "      <th>Year</th>\n",
       "      <th>Deaths</th>\n",
       "      <th>Word Length</th>\n",
       "      <th>percentage</th>\n",
       "    </tr>\n",
       "  </thead>\n",
       "  <tbody>\n",
       "    <tr>\n",
       "      <th>0</th>\n",
       "      <td>1999</td>\n",
       "      <td>6.0</td>\n",
       "      <td>9</td>\n",
       "      <td>2.150228e-08</td>\n",
       "    </tr>\n",
       "    <tr>\n",
       "      <th>1</th>\n",
       "      <td>2000</td>\n",
       "      <td>5.0</td>\n",
       "      <td>8</td>\n",
       "      <td>1.776692e-08</td>\n",
       "    </tr>\n",
       "    <tr>\n",
       "      <th>2</th>\n",
       "      <td>2001</td>\n",
       "      <td>5.0</td>\n",
       "      <td>11</td>\n",
       "      <td>1.754577e-08</td>\n",
       "    </tr>\n",
       "    <tr>\n",
       "      <th>3</th>\n",
       "      <td>2002</td>\n",
       "      <td>10.0</td>\n",
       "      <td>12</td>\n",
       "      <td>3.476747e-08</td>\n",
       "    </tr>\n",
       "    <tr>\n",
       "      <th>4</th>\n",
       "      <td>2003</td>\n",
       "      <td>8.0</td>\n",
       "      <td>11</td>\n",
       "      <td>2.757594e-08</td>\n",
       "    </tr>\n",
       "    <tr>\n",
       "      <th>5</th>\n",
       "      <td>2004</td>\n",
       "      <td>14.0</td>\n",
       "      <td>13</td>\n",
       "      <td>4.781334e-08</td>\n",
       "    </tr>\n",
       "    <tr>\n",
       "      <th>6</th>\n",
       "      <td>2005</td>\n",
       "      <td>10.0</td>\n",
       "      <td>12</td>\n",
       "      <td>3.383905e-08</td>\n",
       "    </tr>\n",
       "    <tr>\n",
       "      <th>7</th>\n",
       "      <td>2006</td>\n",
       "      <td>4.0</td>\n",
       "      <td>9</td>\n",
       "      <td>1.340573e-08</td>\n",
       "    </tr>\n",
       "    <tr>\n",
       "      <th>8</th>\n",
       "      <td>2007</td>\n",
       "      <td>8.0</td>\n",
       "      <td>9</td>\n",
       "      <td>2.655767e-08</td>\n",
       "    </tr>\n",
       "    <tr>\n",
       "      <th>9</th>\n",
       "      <td>2008</td>\n",
       "      <td>5.0</td>\n",
       "      <td>7</td>\n",
       "      <td>1.644229e-08</td>\n",
       "    </tr>\n",
       "    <tr>\n",
       "      <th>10</th>\n",
       "      <td>2009</td>\n",
       "      <td>6.0</td>\n",
       "      <td>9</td>\n",
       "      <td>1.955853e-08</td>\n",
       "    </tr>\n",
       "    <tr>\n",
       "      <th>11</th>\n",
       "      <td>2010</td>\n",
       "      <td>7.0</td>\n",
       "      <td>8</td>\n",
       "      <td>2.267239e-08</td>\n",
       "    </tr>\n",
       "    <tr>\n",
       "      <th>12</th>\n",
       "      <td>2011</td>\n",
       "      <td>3.0</td>\n",
       "      <td>12</td>\n",
       "      <td>9.627978e-09</td>\n",
       "    </tr>\n",
       "    <tr>\n",
       "      <th>13</th>\n",
       "      <td>2012</td>\n",
       "      <td>7.0</td>\n",
       "      <td>9</td>\n",
       "      <td>2.229910e-08</td>\n",
       "    </tr>\n",
       "    <tr>\n",
       "      <th>14</th>\n",
       "      <td>2013</td>\n",
       "      <td>7.0</td>\n",
       "      <td>7</td>\n",
       "      <td>2.214287e-08</td>\n",
       "    </tr>\n",
       "    <tr>\n",
       "      <th>15</th>\n",
       "      <td>2014</td>\n",
       "      <td>7.0</td>\n",
       "      <td>12</td>\n",
       "      <td>2.195341e-08</td>\n",
       "    </tr>\n",
       "    <tr>\n",
       "      <th>16</th>\n",
       "      <td>2015</td>\n",
       "      <td>7.0</td>\n",
       "      <td>15</td>\n",
       "      <td>2.177844e-08</td>\n",
       "    </tr>\n",
       "    <tr>\n",
       "      <th>17</th>\n",
       "      <td>2016</td>\n",
       "      <td>5.0</td>\n",
       "      <td>12</td>\n",
       "      <td>1.547377e-08</td>\n",
       "    </tr>\n",
       "    <tr>\n",
       "      <th>18</th>\n",
       "      <td>2017</td>\n",
       "      <td>8.0</td>\n",
       "      <td>8</td>\n",
       "      <td>2.456103e-08</td>\n",
       "    </tr>\n",
       "    <tr>\n",
       "      <th>19</th>\n",
       "      <td>2018</td>\n",
       "      <td>4.0</td>\n",
       "      <td>8</td>\n",
       "      <td>1.222616e-08</td>\n",
       "    </tr>\n",
       "  </tbody>\n",
       "</table>\n",
       "</div>"
      ],
      "text/plain": [
       "    Year  Deaths  Word Length    percentage\n",
       "0   1999     6.0            9  2.150228e-08\n",
       "1   2000     5.0            8  1.776692e-08\n",
       "2   2001     5.0           11  1.754577e-08\n",
       "3   2002    10.0           12  3.476747e-08\n",
       "4   2003     8.0           11  2.757594e-08\n",
       "5   2004    14.0           13  4.781334e-08\n",
       "6   2005    10.0           12  3.383905e-08\n",
       "7   2006     4.0            9  1.340573e-08\n",
       "8   2007     8.0            9  2.655767e-08\n",
       "9   2008     5.0            7  1.644229e-08\n",
       "10  2009     6.0            9  1.955853e-08\n",
       "11  2010     7.0            8  2.267239e-08\n",
       "12  2011     3.0           12  9.627978e-09\n",
       "13  2012     7.0            9  2.229910e-08\n",
       "14  2013     7.0            7  2.214287e-08\n",
       "15  2014     7.0           12  2.195341e-08\n",
       "16  2015     7.0           15  2.177844e-08\n",
       "17  2016     5.0           12  1.547377e-08\n",
       "18  2017     8.0            8  2.456103e-08\n",
       "19  2018     4.0            8  1.222616e-08"
      ]
     },
     "execution_count": 60,
     "metadata": {},
     "output_type": "execute_result"
    }
   ],
   "source": [
    "merged_data[[\"Year\", \"Deaths\", \"Word Length\", \"percentage\"]]"
   ]
  },
  {
   "cell_type": "code",
   "execution_count": 52,
   "metadata": {},
   "outputs": [
    {
     "name": "stdout",
     "output_type": "stream",
     "text": [
      "Correlation coefficient between deaths by spider bites and word length: 0.35609392814230084\n"
     ]
    }
   ],
   "source": [
    "# Calculate correlation coefficient\n",
    "correlation = merged_data['Deaths'].corr(merged_data['Word Length'])\n",
    "print(f\"Correlation coefficient between deaths by spider bites and word length: {correlation}\")"
   ]
  },
  {
   "cell_type": "code",
   "execution_count": 61,
   "metadata": {},
   "outputs": [
    {
     "name": "stdout",
     "output_type": "stream",
     "text": [
      "Correlation coefficient between deaths by spider bites and word length: 0.35611817073893337\n"
     ]
    }
   ],
   "source": [
    "# Calculate correlation coefficient\n",
    "correlation = merged_data['percentage'].corr(merged_data['Word Length'])\n",
    "print(f\"Correlation coefficient between deaths by spider bites and word length: {correlation}\")"
   ]
  },
  {
   "cell_type": "code",
   "execution_count": 62,
   "metadata": {},
   "outputs": [],
   "source": [
    "import matplotlib.pyplot as plt"
   ]
  },
  {
   "cell_type": "code",
   "execution_count": 68,
   "metadata": {},
   "outputs": [
    {
     "data": {
      "image/png": "[encoded data removed]",
      "text/plain": [
       "<Figure size 640x480 with 2 Axes>"
      ]
     },
     "metadata": {},
     "output_type": "display_data"
    }
   ],
   "source": [
    "fig, ax1 = plt.subplots()\n",
    "\n",
    "# Plots the deaths on the primary y-axis\n",
    "color = 'tab:red'\n",
    "ax1.set_xlabel('Year')\n",
    "ax1.set_ylabel('Deaths', color=color)\n",
    "ax1.plot(merged_data['Year'], merged_data['Deaths'], color=color)\n",
    "ax1.tick_params(axis='y', labelcolor=color)\n",
    "\n",
    "# Creates a second y-axis to plot word length\n",
    "ax2 = ax1.twinx()  \n",
    "color = 'tab:blue'\n",
    "ax2.set_ylabel('Word Length', color=color)\n",
    "ax2.plot(merged_data['Year'], merged_data['Word Length'], color=color)\n",
    "ax2.tick_params(axis='y', labelcolor=color)\n",
    "\n",
    "fig.tight_layout()  # Za boljšo postavitev\n",
    "plt.title('Yearly Deaths and Word Length')\n",
    "plt.show()"
   ]
  },
  {
   "cell_type": "markdown",
   "metadata": {},
   "source": [
    "from https://courses.lumenlearning.com/olemiss-writ250/chapter/correlation-vs-causation/:\n",
    "Sometimes the patterns that develop during data analysis can be described as correlations. Causation, in which there is a cause-and-effect relationship between the variables, is extremely difficult to demonstrate.As such, you want to analyze your data for correlational relationships, in which there seem to be connections between one variable and another. You want to avoid indicating that one of your variables “causes” another variable to shift.You also want to be sure that the correlations themselves make sense—that there is, in fact, a relationship that can be logically seen between your variables.\n",
    "For a visual representation of why not all correlations work, here is a “good” example of a problematic correlation.While this chart does indicate that there is a similarity in the shape of the lines representing the number of letters in the winning spelling bee words and the number of people killed by venomous spiders from 1999 to 2009, no logical relationship—either causal or correlative in nature—actually exists between the two"
   ]
  },
  {
   "cell_type": "markdown",
   "metadata": {},
   "source": [
    "Note: online and in lectures, the time series with the high correlation is presented in the years 1999-2009. If we consider only this time window, the correlation is much higher: 0.8184. As the correlation drops with the added years (up to 2019), we can also conclude that the correlation in the years studied is purely coincidental. "
   ]
  },
  {
   "cell_type": "code",
   "execution_count": 69,
   "metadata": {},
   "outputs": [
    {
     "name": "stdout",
     "output_type": "stream",
     "text": [
      "Correlation coefficient between deaths by spider bites and word length (1999 - 2009): 0.8184406031671666\n"
     ]
    }
   ],
   "source": [
    "short = merged_data[(merged_data[\"Year\"] >= 1999) & (merged_data[\"Year\"] <= 2009)]\n",
    "correlation = short['percentage'].corr(short['Word Length'])\n",
    "print(f\"Correlation coefficient between deaths by spider bites and word length (1999 - 2009): {correlation}\")"
   ]
  },
  {
   "cell_type": "markdown",
   "metadata": {},
   "source": [
    "## Causal models exercise: do-calculus\n",
    "\n",
    "As before, take K to be your Karma, H to be the hours you spend in the gym lifting weight, and then W be the weight you can bench press. \n",
    "\n",
    "You are the parent of a very young child, so Karma will punish you for devoting too much time to your triceps and neglecting your partner and baby. Let $G$ be this causal graph, as shown below."
   ]
  },
  {
   "cell_type": "code",
   "execution_count": 11,
   "metadata": {},
   "outputs": [
    {
     "data": {
      "image/svg+xml": [
       "<?xml version=\"1.0\" encoding=\"UTF-8\" standalone=\"no\"?>\n",
       "<!DOCTYPE svg PUBLIC \"-//W3C//DTD SVG 1.1//EN\"\n",
       " \"http://www.w3.org/Graphics/SVG/1.1/DTD/svg11.dtd\">\n",
       "<!-- Generated by graphviz version 11.0.0 (20240428.1522)\n",
       " -->\n",
       "<!-- Pages: 1 -->\n",
       "<svg width=\"134pt\" height=\"107pt\"\n",
       " viewBox=\"0.00 0.00 134.20 106.80\" xmlns=\"http://www.w3.org/2000/svg\" xmlns:xlink=\"http://www.w3.org/1999/xlink\">\n",
       "<g id=\"graph0\" class=\"graph\" transform=\"scale(1 1) rotate(0) translate(4 102.8)\">\n",
       "<polygon fill=\"white\" stroke=\"none\" points=\"-4,4 -4,-102.8 130.2,-102.8 130.2,4 -4,4\"/>\n",
       "<!-- K -->\n",
       "<g id=\"node1\" class=\"node\">\n",
       "<title>K</title>\n",
       "<ellipse fill=\"none\" stroke=\"black\" cx=\"27\" cy=\"-18\" rx=\"27\" ry=\"18\"/>\n",
       "<text text-anchor=\"middle\" x=\"27\" y=\"-12.57\" font-family=\"Times New Roman,serif\" font-size=\"14.00\">K</text>\n",
       "</g>\n",
       "<!-- H -->\n",
       "<g id=\"node2\" class=\"node\">\n",
       "<title>H</title>\n",
       "<ellipse fill=\"none\" stroke=\"black\" cx=\"61.91\" cy=\"-80.8\" rx=\"27\" ry=\"18\"/>\n",
       "<text text-anchor=\"middle\" x=\"61.91\" y=\"-75.38\" font-family=\"Times New Roman,serif\" font-size=\"14.00\">H</text>\n",
       "</g>\n",
       "<!-- K&#45;&gt;H -->\n",
       "<g id=\"edge1\" class=\"edge\">\n",
       "<title>K&#45;&gt;H</title>\n",
       "<path fill=\"none\" stroke=\"black\" d=\"M36.54,-35.16C39.77,-40.98 43.46,-47.62 47.01,-54\"/>\n",
       "<polygon fill=\"black\" stroke=\"black\" points=\"43.73,-55.3 51.65,-62.34 49.85,-51.9 43.73,-55.3\"/>\n",
       "</g>\n",
       "<!-- W -->\n",
       "<g id=\"node3\" class=\"node\">\n",
       "<title>W</title>\n",
       "<ellipse fill=\"none\" stroke=\"black\" cx=\"99.2\" cy=\"-19.28\" rx=\"27\" ry=\"18\"/>\n",
       "<text text-anchor=\"middle\" x=\"99.2\" y=\"-13.86\" font-family=\"Times New Roman,serif\" font-size=\"14.00\">W</text>\n",
       "</g>\n",
       "<!-- K&#45;&gt;W -->\n",
       "<g id=\"edge2\" class=\"edge\">\n",
       "<title>K&#45;&gt;W</title>\n",
       "<path fill=\"none\" stroke=\"black\" d=\"M54.29,-18.48C56.36,-18.52 58.47,-18.56 60.59,-18.6\"/>\n",
       "<polygon fill=\"black\" stroke=\"black\" points=\"60.29,-22.09 70.35,-18.77 60.41,-15.09 60.29,-22.09\"/>\n",
       "</g>\n",
       "<!-- H&#45;&gt;W -->\n",
       "<g id=\"edge3\" class=\"edge\">\n",
       "<title>H&#45;&gt;W</title>\n",
       "<path fill=\"none\" stroke=\"black\" d=\"M72.1,-63.99C75.55,-58.29 79.5,-51.79 83.28,-45.54\"/>\n",
       "<polygon fill=\"black\" stroke=\"black\" points=\"86.05,-47.73 88.24,-37.37 80.06,-44.1 86.05,-47.73\"/>\n",
       "</g>\n",
       "</g>\n",
       "</svg>\n"
      ],
      "text/plain": [
       "<graphviz.graphs.Digraph at 0x21b939fdfd0>"
      ]
     },
     "execution_count": 11,
     "metadata": {},
     "output_type": "execute_result"
    }
   ],
   "source": [
    "dot = Digraph(engine='neato')\n",
    "dot.attr('node')\n",
    "dot.node('K')\n",
    "dot.node('H')\n",
    "dot.node('W')\n",
    "\n",
    "dot.edge('K', 'H')\n",
    "dot.edge('K', 'W')\n",
    "dot.edge('H', 'W')\n",
    "\n",
    "dot"
   ]
  },
  {
   "cell_type": "markdown",
   "metadata": {},
   "source": [
    "1. Draw the graphs $G_{\\underline{W}}$ and $G_{\\overline{H}}$. Difficulty: *"
   ]
  },
  {
   "cell_type": "code",
   "execution_count": 72,
   "metadata": {},
   "outputs": [
    {
     "data": {
      "image/svg+xml": [
       "<?xml version=\"1.0\" encoding=\"UTF-8\" standalone=\"no\"?>\n",
       "<!DOCTYPE svg PUBLIC \"-//W3C//DTD SVG 1.1//EN\"\n",
       " \"http://www.w3.org/Graphics/SVG/1.1/DTD/svg11.dtd\">\n",
       "<!-- Generated by graphviz version 11.0.0 (20240428.1522)\n",
       " -->\n",
       "<!-- Pages: 1 -->\n",
       "<svg width=\"134pt\" height=\"101pt\"\n",
       " viewBox=\"0.00 0.00 134.00 100.68\" xmlns=\"http://www.w3.org/2000/svg\" xmlns:xlink=\"http://www.w3.org/1999/xlink\">\n",
       "<g id=\"graph0\" class=\"graph\" transform=\"scale(1 1) rotate(0) translate(4 96.68)\">\n",
       "<polygon fill=\"white\" stroke=\"none\" points=\"-4,4 -4,-96.68 130,-96.68 130,4 -4,4\"/>\n",
       "<!-- K -->\n",
       "<g id=\"node1\" class=\"node\">\n",
       "<title>K</title>\n",
       "<ellipse fill=\"none\" stroke=\"black\" cx=\"27\" cy=\"-18\" rx=\"27\" ry=\"18\"/>\n",
       "<text text-anchor=\"middle\" x=\"27\" y=\"-12.57\" font-family=\"Times New Roman,serif\" font-size=\"14.00\">K</text>\n",
       "</g>\n",
       "<!-- H -->\n",
       "<g id=\"node2\" class=\"node\">\n",
       "<title>H</title>\n",
       "<ellipse fill=\"none\" stroke=\"black\" cx=\"71.4\" cy=\"-74.68\" rx=\"27\" ry=\"18\"/>\n",
       "<text text-anchor=\"middle\" x=\"71.4\" y=\"-69.25\" font-family=\"Times New Roman,serif\" font-size=\"14.00\">H</text>\n",
       "</g>\n",
       "<!-- K&#45;&gt;H -->\n",
       "<g id=\"edge1\" class=\"edge\">\n",
       "<title>K&#45;&gt;H</title>\n",
       "<path fill=\"none\" stroke=\"black\" d=\"M39.6,-34.09C43.32,-38.84 47.48,-44.15 51.54,-49.33\"/>\n",
       "<polygon fill=\"black\" stroke=\"black\" points=\"48.76,-51.45 57.68,-57.16 54.27,-47.13 48.76,-51.45\"/>\n",
       "</g>\n",
       "<!-- W -->\n",
       "<g id=\"node3\" class=\"node\">\n",
       "<title>W</title>\n",
       "<ellipse fill=\"none\" stroke=\"black\" cx=\"99\" cy=\"-18\" rx=\"27\" ry=\"18\"/>\n",
       "<text text-anchor=\"middle\" x=\"99\" y=\"-12.57\" font-family=\"Times New Roman,serif\" font-size=\"14.00\">W</text>\n",
       "</g>\n",
       "</g>\n",
       "</svg>\n"
      ],
      "text/plain": [
       "<graphviz.graphs.Digraph at 0x21b9a451be0>"
      ]
     },
     "execution_count": 72,
     "metadata": {},
     "output_type": "execute_result"
    }
   ],
   "source": [
    "# Graf G_{\\underline{W}}\n",
    "dot_GW = Digraph(engine='neato')\n",
    "dot_GW.attr('node')\n",
    "dot_GW.node('K')\n",
    "dot_GW.node('H')\n",
    "dot_GW.node('W')\n",
    "\n",
    "dot_GW.edge('K', 'H')\n",
    "\n",
    "dot_GW"
   ]
  },
  {
   "cell_type": "code",
   "execution_count": 73,
   "metadata": {},
   "outputs": [
    {
     "data": {
      "image/svg+xml": [
       "<?xml version=\"1.0\" encoding=\"UTF-8\" standalone=\"no\"?>\n",
       "<!DOCTYPE svg PUBLIC \"-//W3C//DTD SVG 1.1//EN\"\n",
       " \"http://www.w3.org/Graphics/SVG/1.1/DTD/svg11.dtd\">\n",
       "<!-- Generated by graphviz version 11.0.0 (20240428.1522)\n",
       " -->\n",
       "<!-- Pages: 1 -->\n",
       "<svg width=\"132pt\" height=\"169pt\"\n",
       " viewBox=\"0.00 0.00 131.54 168.68\" xmlns=\"http://www.w3.org/2000/svg\" xmlns:xlink=\"http://www.w3.org/1999/xlink\">\n",
       "<g id=\"graph0\" class=\"graph\" transform=\"scale(1 1) rotate(0) translate(4 164.68)\">\n",
       "<polygon fill=\"white\" stroke=\"none\" points=\"-4,4 -4,-164.68 127.54,-164.68 127.54,4 -4,4\"/>\n",
       "<!-- K -->\n",
       "<g id=\"node1\" class=\"node\">\n",
       "<title>K</title>\n",
       "<ellipse fill=\"none\" stroke=\"black\" cx=\"51.81\" cy=\"-74.77\" rx=\"27\" ry=\"18\"/>\n",
       "<text text-anchor=\"middle\" x=\"51.81\" y=\"-69.35\" font-family=\"Times New Roman,serif\" font-size=\"14.00\">K</text>\n",
       "</g>\n",
       "<!-- H -->\n",
       "<g id=\"node2\" class=\"node\">\n",
       "<title>H</title>\n",
       "<ellipse fill=\"none\" stroke=\"black\" cx=\"27\" cy=\"-142.68\" rx=\"27\" ry=\"18\"/>\n",
       "<text text-anchor=\"middle\" x=\"27\" y=\"-137.25\" font-family=\"Times New Roman,serif\" font-size=\"14.00\">H</text>\n",
       "</g>\n",
       "<!-- K&#45;&gt;H -->\n",
       "<g id=\"edge1\" class=\"edge\">\n",
       "<title>K&#45;&gt;H</title>\n",
       "<path fill=\"none\" stroke=\"black\" d=\"M45.29,-92.61C42.89,-99.19 40.1,-106.81 37.44,-114.1\"/>\n",
       "<polygon fill=\"black\" stroke=\"black\" points=\"34.22,-112.7 34.08,-123.3 40.8,-115.11 34.22,-112.7\"/>\n",
       "</g>\n",
       "<!-- W -->\n",
       "<g id=\"node3\" class=\"node\">\n",
       "<title>W</title>\n",
       "<ellipse fill=\"none\" stroke=\"black\" cx=\"96.54\" cy=\"-18\" rx=\"27\" ry=\"18\"/>\n",
       "<text text-anchor=\"middle\" x=\"96.54\" y=\"-12.57\" font-family=\"Times New Roman,serif\" font-size=\"14.00\">W</text>\n",
       "</g>\n",
       "<!-- K&#45;&gt;W -->\n",
       "<g id=\"edge2\" class=\"edge\">\n",
       "<title>K&#45;&gt;W</title>\n",
       "<path fill=\"none\" stroke=\"black\" d=\"M64.51,-58.65C68.41,-53.7 72.81,-48.12 77.06,-42.73\"/>\n",
       "<polygon fill=\"black\" stroke=\"black\" points=\"79.59,-45.17 83.03,-35.15 74.09,-40.84 79.59,-45.17\"/>\n",
       "</g>\n",
       "</g>\n",
       "</svg>\n"
      ],
      "text/plain": [
       "<graphviz.graphs.Digraph at 0x21b9a466960>"
      ]
     },
     "execution_count": 73,
     "metadata": {},
     "output_type": "execute_result"
    }
   ],
   "source": [
    "# Graf G_{\\overline{H}}\n",
    "dot_GH = Digraph(engine='neato')\n",
    "dot_GH.attr('node')\n",
    "dot_GH.node('K')\n",
    "dot_GH.node('H')\n",
    "dot_GH.node('W')\n",
    "\n",
    "dot_GH.edge('K', 'H')\n",
    "dot_GH.edge('K', 'W')\n",
    "\n",
    "dot_GH"
   ]
  },
  {
   "cell_type": "markdown",
   "metadata": {},
   "source": [
    "\n",
    "2. Write out formulas for $P(W=1 | H=1)$ and $P(W=1|\\, \\mathrm{do}(H) = 1)$. Difficulty: **\n",
    "\n",
    "3. Calculate $P(W=1 | H=1)$ and $P(W=1|\\, \\mathrm{do}(H) = 1)$ for a Bayesian network fitted to the sample data from $(K, H, W)$ in `notebooks/data/karma_weights.csv`. Hint: the `Query` class of [https://koaning.github.io/brent/](https://koaning.github.io/brent/) can be used. Interpret the results in a qualitative way, i.e. how do you think Karma should work in this situation? Difficulty: **"
   ]
  },
  {
   "cell_type": "markdown",
   "metadata": {},
   "source": [
    "Probability for $G$:\n",
    "\n",
    "$$\\begin{align}\n",
    "P_{G}(W=1 | H=1) &= \\sum_{k} P_{G}(W=1 | H=1, K=k) \\cdot {P_{G}(K=k | H=1)}\n",
    "\\end{align}$$\n",
    "\n",
    "Probability for $G_{\\underline{H}} = G'$\n",
    "\n",
    "$$\\begin{align}\n",
    "P(W=1 | do(H)=1) &= P_{G'}(W=1 | H=1) \\\\\n",
    "&= \\sum_{k} P_{G'}(W=1 | H=1, K=k) \\cdot P_{G'}(K=k) \\\\\n",
    "&= \\sum_{k} P_{G}(W=1 | H=1, K=k) \\cdot P_{G}(K=k)\n",
    "\\end{align}$$"
   ]
  },
  {
   "cell_type": "code",
   "execution_count": 77,
   "metadata": {},
   "outputs": [
    {
     "data": {
      "text/html": [
       "<div>\n",
       "<style scoped>\n",
       "    .dataframe tbody tr th:only-of-type {\n",
       "        vertical-align: middle;\n",
       "    }\n",
       "\n",
       "    .dataframe tbody tr th {\n",
       "        vertical-align: top;\n",
       "    }\n",
       "\n",
       "    .dataframe thead th {\n",
       "        text-align: right;\n",
       "    }\n",
       "</style>\n",
       "<table border=\"1\" class=\"dataframe\">\n",
       "  <thead>\n",
       "    <tr style=\"text-align: right;\">\n",
       "      <th></th>\n",
       "      <th>karma</th>\n",
       "      <th>hours</th>\n",
       "      <th>weight</th>\n",
       "    </tr>\n",
       "  </thead>\n",
       "  <tbody>\n",
       "    <tr>\n",
       "      <th>0</th>\n",
       "      <td>1</td>\n",
       "      <td>0</td>\n",
       "      <td>1</td>\n",
       "    </tr>\n",
       "    <tr>\n",
       "      <th>1</th>\n",
       "      <td>1</td>\n",
       "      <td>1</td>\n",
       "      <td>1</td>\n",
       "    </tr>\n",
       "    <tr>\n",
       "      <th>2</th>\n",
       "      <td>1</td>\n",
       "      <td>1</td>\n",
       "      <td>1</td>\n",
       "    </tr>\n",
       "    <tr>\n",
       "      <th>3</th>\n",
       "      <td>1</td>\n",
       "      <td>1</td>\n",
       "      <td>1</td>\n",
       "    </tr>\n",
       "    <tr>\n",
       "      <th>4</th>\n",
       "      <td>1</td>\n",
       "      <td>0</td>\n",
       "      <td>1</td>\n",
       "    </tr>\n",
       "  </tbody>\n",
       "</table>\n",
       "</div>"
      ],
      "text/plain": [
       "   karma  hours  weight\n",
       "0      1      0       1\n",
       "1      1      1       1\n",
       "2      1      1       1\n",
       "3      1      1       1\n",
       "4      1      0       1"
      ]
     },
     "execution_count": 77,
     "metadata": {},
     "output_type": "execute_result"
    }
   ],
   "source": [
    "df = pd.read_csv(datadir / 'karma_weights.csv')\n",
    "df.head()"
   ]
  },
  {
   "cell_type": "markdown",
   "metadata": {},
   "source": []
  },
  {
   "cell_type": "markdown",
   "metadata": {},
   "source": [
    "## Causal models exercise: Causal calculus\n",
    "\n",
    "Prove in gory detail that the special case of Causal rule 3 holds. Difficulty: *"
   ]
  }
 ],
 "metadata": {
  "kernelspec": {
   "display_name": "Python 3 (ipykernel)",
   "language": "python",
   "name": "python3"
  },
  "language_info": {
   "codemirror_mode": {
    "name": "ipython",
    "version": 3
   },
   "file_extension": ".py",
   "mimetype": "text/x-python",
   "name": "python",
   "nbconvert_exporter": "python",
   "pygments_lexer": "ipython3",
   "version": "3.12.0"
  }
 },
 "nbformat": 4,
 "nbformat_minor": 4
}
