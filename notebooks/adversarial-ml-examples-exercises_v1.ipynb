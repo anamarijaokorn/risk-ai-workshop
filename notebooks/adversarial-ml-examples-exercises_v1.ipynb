{
 "cells": [
  {
   "cell_type": "markdown",
   "id": "416ecc26-322b-4f17-8577-70cc04f0367a",
   "metadata": {},
   "source": [
    "# Examples and exercises for Lecture Adversarial Regularization Regimes for Classification Tasks"
   ]
  },
  {
   "cell_type": "code",
   "execution_count": 7,
   "id": "f309f158-f891-423a-9fee-59acf6e607bd",
   "metadata": {},
   "outputs": [],
   "source": [
    "import os\n",
    "from pathlib import Path\n",
    "\n",
    "import pandas as pd\n",
    "from sklearn.linear_model import LogisticRegression, LogisticRegressionCV\n",
    "import numpy as np\n",
    "\n",
    "from risk_learning.arr import (\n",
    "    convert_to_categorical,\n",
    "    make_feature_combination_array,\n",
    "    make_feature_combination_score_array,\n",
    "    make_trend_reports, \n",
    "    make_data_trend_reports\n",
    ")"
   ]
  },
  {
   "cell_type": "markdown",
   "id": "bdd11940-2d83-4e03-af51-bfd87ef139cf",
   "metadata": {},
   "source": [
    "## Example Simpson's Paradox Data"
   ]
  },
  {
   "cell_type": "code",
   "execution_count": 8,
   "id": "142da3ce-17d2-4e8a-9bd5-5b25684421db",
   "metadata": {},
   "outputs": [
    {
     "data": {
      "text/html": [
       "<div>\n",
       "<style scoped>\n",
       "    .dataframe tbody tr th:only-of-type {\n",
       "        vertical-align: middle;\n",
       "    }\n",
       "\n",
       "    .dataframe tbody tr th {\n",
       "        vertical-align: top;\n",
       "    }\n",
       "\n",
       "    .dataframe thead th {\n",
       "        text-align: right;\n",
       "    }\n",
       "</style>\n",
       "<table border=\"1\" class=\"dataframe\">\n",
       "  <thead>\n",
       "    <tr style=\"text-align: right;\">\n",
       "      <th></th>\n",
       "      <th>default</th>\n",
       "      <th>gender</th>\n",
       "      <th>occupation</th>\n",
       "    </tr>\n",
       "  </thead>\n",
       "  <tbody>\n",
       "    <tr>\n",
       "      <th>0</th>\n",
       "      <td>0</td>\n",
       "      <td>0</td>\n",
       "      <td>1</td>\n",
       "    </tr>\n",
       "    <tr>\n",
       "      <th>1</th>\n",
       "      <td>1</td>\n",
       "      <td>0</td>\n",
       "      <td>0</td>\n",
       "    </tr>\n",
       "    <tr>\n",
       "      <th>2</th>\n",
       "      <td>1</td>\n",
       "      <td>1</td>\n",
       "      <td>1</td>\n",
       "    </tr>\n",
       "    <tr>\n",
       "      <th>3</th>\n",
       "      <td>0</td>\n",
       "      <td>0</td>\n",
       "      <td>0</td>\n",
       "    </tr>\n",
       "    <tr>\n",
       "      <th>4</th>\n",
       "      <td>0</td>\n",
       "      <td>1</td>\n",
       "      <td>1</td>\n",
       "    </tr>\n",
       "    <tr>\n",
       "      <th>...</th>\n",
       "      <td>...</td>\n",
       "      <td>...</td>\n",
       "      <td>...</td>\n",
       "    </tr>\n",
       "    <tr>\n",
       "      <th>595</th>\n",
       "      <td>0</td>\n",
       "      <td>0</td>\n",
       "      <td>0</td>\n",
       "    </tr>\n",
       "    <tr>\n",
       "      <th>596</th>\n",
       "      <td>0</td>\n",
       "      <td>0</td>\n",
       "      <td>1</td>\n",
       "    </tr>\n",
       "    <tr>\n",
       "      <th>597</th>\n",
       "      <td>1</td>\n",
       "      <td>0</td>\n",
       "      <td>0</td>\n",
       "    </tr>\n",
       "    <tr>\n",
       "      <th>598</th>\n",
       "      <td>1</td>\n",
       "      <td>0</td>\n",
       "      <td>0</td>\n",
       "    </tr>\n",
       "    <tr>\n",
       "      <th>599</th>\n",
       "      <td>0</td>\n",
       "      <td>0</td>\n",
       "      <td>1</td>\n",
       "    </tr>\n",
       "  </tbody>\n",
       "</table>\n",
       "<p>600 rows × 3 columns</p>\n",
       "</div>"
      ],
      "text/plain": [
       "     default  gender  occupation\n",
       "0          0       0           1\n",
       "1          1       0           0\n",
       "2          1       1           1\n",
       "3          0       0           0\n",
       "4          0       1           1\n",
       "..       ...     ...         ...\n",
       "595        0       0           0\n",
       "596        0       0           1\n",
       "597        1       0           0\n",
       "598        1       0           0\n",
       "599        0       0           1\n",
       "\n",
       "[600 rows x 3 columns]"
      ]
     },
     "execution_count": 8,
     "metadata": {},
     "output_type": "execute_result"
    }
   ],
   "source": [
    "datadir = Path(os.getcwd()) / 'data'\n",
    "data_path = datadir / 'adversarial-default-for-x-validation.csv'\n",
    "\n",
    "df = pd.read_csv(data_path)\n",
    "df"
   ]
  },
  {
   "cell_type": "code",
   "execution_count": 9,
   "id": "1a34a6fd-c73b-4e9e-b1cc-f6cdefd7e935",
   "metadata": {},
   "outputs": [
    {
     "data": {
      "text/html": [
       "<div>\n",
       "<style scoped>\n",
       "    .dataframe tbody tr th:only-of-type {\n",
       "        vertical-align: middle;\n",
       "    }\n",
       "\n",
       "    .dataframe tbody tr th {\n",
       "        vertical-align: top;\n",
       "    }\n",
       "\n",
       "    .dataframe thead th {\n",
       "        text-align: right;\n",
       "    }\n",
       "</style>\n",
       "<table border=\"1\" class=\"dataframe\">\n",
       "  <thead>\n",
       "    <tr style=\"text-align: right;\">\n",
       "      <th></th>\n",
       "      <th>default</th>\n",
       "      <th>gender</th>\n",
       "      <th>occupation</th>\n",
       "    </tr>\n",
       "  </thead>\n",
       "  <tbody>\n",
       "    <tr>\n",
       "      <th>0</th>\n",
       "      <td>0</td>\n",
       "      <td>0</td>\n",
       "      <td>1</td>\n",
       "    </tr>\n",
       "    <tr>\n",
       "      <th>1</th>\n",
       "      <td>1</td>\n",
       "      <td>0</td>\n",
       "      <td>0</td>\n",
       "    </tr>\n",
       "    <tr>\n",
       "      <th>2</th>\n",
       "      <td>1</td>\n",
       "      <td>1</td>\n",
       "      <td>1</td>\n",
       "    </tr>\n",
       "    <tr>\n",
       "      <th>3</th>\n",
       "      <td>0</td>\n",
       "      <td>0</td>\n",
       "      <td>0</td>\n",
       "    </tr>\n",
       "    <tr>\n",
       "      <th>4</th>\n",
       "      <td>0</td>\n",
       "      <td>1</td>\n",
       "      <td>1</td>\n",
       "    </tr>\n",
       "    <tr>\n",
       "      <th>5</th>\n",
       "      <td>1</td>\n",
       "      <td>0</td>\n",
       "      <td>0</td>\n",
       "    </tr>\n",
       "    <tr>\n",
       "      <th>6</th>\n",
       "      <td>0</td>\n",
       "      <td>0</td>\n",
       "      <td>0</td>\n",
       "    </tr>\n",
       "    <tr>\n",
       "      <th>7</th>\n",
       "      <td>1</td>\n",
       "      <td>0</td>\n",
       "      <td>0</td>\n",
       "    </tr>\n",
       "    <tr>\n",
       "      <th>8</th>\n",
       "      <td>0</td>\n",
       "      <td>0</td>\n",
       "      <td>0</td>\n",
       "    </tr>\n",
       "    <tr>\n",
       "      <th>9</th>\n",
       "      <td>1</td>\n",
       "      <td>0</td>\n",
       "      <td>0</td>\n",
       "    </tr>\n",
       "  </tbody>\n",
       "</table>\n",
       "</div>"
      ],
      "text/plain": [
       "  default gender occupation\n",
       "0       0      0          1\n",
       "1       1      0          0\n",
       "2       1      1          1\n",
       "3       0      0          0\n",
       "4       0      1          1\n",
       "5       1      0          0\n",
       "6       0      0          0\n",
       "7       1      0          0\n",
       "8       0      0          0\n",
       "9       1      0          0"
      ]
     },
     "execution_count": 9,
     "metadata": {},
     "output_type": "execute_result"
    }
   ],
   "source": [
    "label_mapping_values = dict(gender=[0, 1], occupation=[0, 1])\n",
    "data_categories = label_mapping_values.copy()\n",
    "data_categories['default'] = [0, 1]\n",
    "df = convert_to_categorical(df, data_categories)\n",
    "df.head(10)"
   ]
  },
  {
   "cell_type": "markdown",
   "id": "527e5b7b-66e6-4218-a0c1-df4e709df14b",
   "metadata": {},
   "source": [
    "## Exercise: Simpson or not?\n",
    "\n",
    "Difficulty: (*)\n",
    "\n",
    "Prove that this dataset exhibites Simpson's paradox."
   ]
  },
  {
   "cell_type": "code",
   "execution_count": 13,
   "id": "81b488ac",
   "metadata": {},
   "outputs": [
    {
     "name": "stdout",
     "output_type": "stream",
     "text": [
      "Default rate by gender:\n",
      " gender\n",
      "0    0.713333\n",
      "1    0.286667\n",
      "Name: proportion, dtype: float64\n",
      "\n",
      "Default rate by occupation:\n",
      " occupation\n",
      "0    0.68\n",
      "1    0.32\n",
      "Name: proportion, dtype: float64\n",
      "\n",
      "Default rate by combined gender and occupation:\n",
      " gender  occupation  default\n",
      "0       0           1          0.770936\n",
      "                    0          0.229064\n",
      "        1           0          0.954545\n",
      "                    1          0.045455\n",
      "1       0           1          1.000000\n",
      "                    0          0.000000\n",
      "        1           0          0.723529\n",
      "                    1          0.276471\n",
      "Name: proportion, dtype: float64\n"
     ]
    },
    {
     "name": "stderr",
     "output_type": "stream",
     "text": [
      "C:\\Users\\Ana Marija\\AppData\\Local\\Temp\\ipykernel_3440\\215462526.py:10: FutureWarning: The default of observed=False is deprecated and will be changed to True in a future version of pandas. Pass observed=False to retain current behavior or observed=True to adopt the future default and silence this warning.\n",
      "  combined_default_rate = df.groupby(['gender', 'occupation'])['default'].value_counts(normalize=True)\n"
     ]
    }
   ],
   "source": [
    "# Default rate by gender\n",
    "gender_default_rate = df['gender'].value_counts(normalize=True)\n",
    "print(\"Default rate by gender:\\n\", gender_default_rate)\n",
    "\n",
    "# Default rate by occupation\n",
    "occupation_default_rate = df['occupation'].value_counts(normalize=True)\n",
    "print(\"\\nDefault rate by occupation:\\n\", occupation_default_rate)\n",
    "\n",
    "# Combine gender and occupation\n",
    "combined_default_rate = df.groupby(['gender', 'occupation'])['default'].value_counts(normalize=True)\n",
    "print(\"\\nDefault rate by combined gender and occupation:\\n\", combined_default_rate)"
   ]
  },
  {
   "cell_type": "markdown",
   "id": "4752c9ac",
   "metadata": {},
   "source": [
    "Here, we see that the default rate is higher for gender 0 (71.33%) compared to gender 1 (28.67%)."
   ]
  },
  {
   "cell_type": "markdown",
   "id": "51d794c1",
   "metadata": {},
   "source": [
    "Similarly, the default rate is higher for occupation 0 (68%) compared to occupation 1 (32%)."
   ]
  },
  {
   "cell_type": "markdown",
   "id": "b6510c85",
   "metadata": {},
   "source": [
    "Now, let's examine the combined default rates. We see that for gender 0, the default rate is higher when occupation is 1 (77.09%) compared to when occupation is 0 (22.91%). However, for gender 1, the default rate is higher when occupation is 0 (95.45%) compared to when occupation is 1 (4.55%).\n",
    "\n",
    "Simpson's paradox? After analyzing the results, we can conclude that Simpson's paradox is not present in this dataset. The trends we observed in the individual groups (gender and occupation) are consistent with the trends in the combined groups. There is no reversal or disappearance of the trends when we combine the groups."
   ]
  },
  {
   "cell_type": "markdown",
   "id": "fde5b290-34d0-431c-86d4-fc1259c11c7b",
   "metadata": {},
   "source": [
    "## Exercises: non-trivial regularization regime\n",
    "\n",
    "* Which optimizer (\"solver\") for logistic regression seems best suited for the above dataset? https://scikit-learn.org/stable/modules/generated/sklearn.linear_model.LogisticRegression.html. Difficulty (*)\n",
    "* Calculate the \"true\" trends for female default for each occupation subgroup. Note that in sklearn, the inverse regularization parameter is  used, $C$, so to approximate the usual $c=0$, set $C$ to a large value. Difficulty (**)\n",
    "* Show that this dataset is adversarial for logistic regression for inverse regularization parameter $C=0.05$. Difficulty: (**)\n",
    "* Show that this dataset is still adversarial for k-fold cross-validated logistic regression if $k=5$, the default setting."
   ]
  },
  {
   "cell_type": "markdown",
   "id": "92201b76",
   "metadata": {},
   "source": [
    "1. To determine the best-suited optimizer for logistic regression, let's examine the characteristics of the dataset. Since the dataset is relatively small (600 rows) and the features are categorical, a robust optimizer that can handle these conditions is suitable. Based on the scikit-learn documentation, I recommend using the liblinear solver, which is a good choice for small to medium-sized datasets with categorical features. It's also a robust solver that can handle L1 and L2 regularization.\n",
    "2. To calculate the \"true\" trends for female default for each occupation subgroup, we can use logistic regression with a large inverse regularization parameter (C) to approximate the usual λ = 0."
   ]
  },
  {
   "cell_type": "code",
   "execution_count": 14,
   "id": "169dc905",
   "metadata": {},
   "outputs": [
    {
     "name": "stdout",
     "output_type": "stream",
     "text": [
      "Female default trends by occupation: [[-8.61436064]]\n"
     ]
    }
   ],
   "source": [
    "from sklearn.linear_model import LogisticRegression\n",
    "\n",
    "# Set C to a large value to approximate λ = 0\n",
    "C = 1e10\n",
    "\n",
    "log_reg_female = LogisticRegression(solver='liblinear', C=C, max_iter=1000)\n",
    "\n",
    "# Calculate the trends for female default for each occupation subgroup\n",
    "female_default_trends = log_reg_female.fit(df[df['gender'] == 1][['occupation']], df[df['gender'] == 1]['default']).coef_\n",
    "print(\"Female default trends by occupation:\", female_default_trends)"
   ]
  },
  {
   "cell_type": "markdown",
   "id": "5b95d1d5",
   "metadata": {},
   "source": [
    "The result [[−8.61436064]] represents the \"true\" trend for female default for each occupation subgroup. This value indicates the strength of the relationship between the female gender and default rate for each occupation subgroup. A negative value suggests that females are less likely to default compared to males in each occupation subgroup."
   ]
  },
  {
   "cell_type": "markdown",
   "id": "c14f24a9",
   "metadata": {},
   "source": [
    "3. To show that this dataset is adversarial for logistic regression, we need to demonstrate that the model's performance degrades when the inverse regularization parameter (C) is decreased."
   ]
  },
  {
   "cell_type": "code",
   "execution_count": 15,
   "id": "97ff88c7",
   "metadata": {},
   "outputs": [
    {
     "name": "stdout",
     "output_type": "stream",
     "text": [
      "Accuracies for different C values: [0.765, 0.765, 0.765, 0.765]\n"
     ]
    }
   ],
   "source": [
    "from sklearn.linear_model import LogisticRegression\n",
    "from sklearn.metrics import accuracy_score\n",
    "\n",
    "# Train logistic regression models with different C values\n",
    "C_values = [1e10, 1e5, 1e2, 1e0]\n",
    "accuracies = []\n",
    "\n",
    "for C in C_values:\n",
    "    log_reg = LogisticRegression(solver='liblinear', C=C, max_iter=1000)\n",
    "    log_reg.fit(df[['gender', 'occupation']], df['default'])\n",
    "    y_pred = log_reg.predict(df[['gender', 'occupation']])\n",
    "    accuracy = accuracy_score(df['default'], y_pred)\n",
    "    accuracies.append(accuracy)\n",
    "\n",
    "print(\"Accuracies for different C values:\", accuracies)"
   ]
  },
  {
   "cell_type": "markdown",
   "id": "59f36c0a",
   "metadata": {},
   "source": [
    "The result [0.765, 0.765, 0.765, 0.765] shows that the accuracy of the logistic regression model remains the same (0.765) for different values of the inverse regularization parameter C. This suggests that the model is not sensitive to the choice of C, which is unusual. Typically, the accuracy would change as C varies."
   ]
  },
  {
   "cell_type": "markdown",
   "id": "73554998",
   "metadata": {},
   "source": [
    "4. To show that this dataset is still adversarial for k-fold cross-validated logistic regression, we can use the LogisticRegressionCV class from scikit-learn."
   ]
  },
  {
   "cell_type": "code",
   "execution_count": 16,
   "id": "dfde2714",
   "metadata": {},
   "outputs": [
    {
     "name": "stdout",
     "output_type": "stream",
     "text": [
      "Cross-validated accuracy: 0.765\n"
     ]
    }
   ],
   "source": [
    "from sklearn.linear_model import LogisticRegressionCV\n",
    "from sklearn.model_selection import KFold\n",
    "\n",
    "# Perform k-fold cross-validation with default C value\n",
    "kf = KFold(n_splits=5, shuffle=True, random_state=42)\n",
    "log_reg_cv = LogisticRegressionCV(Cs=[1e10], cv=kf, solver='liblinear', max_iter=1000)\n",
    "\n",
    "# Train the model and evaluate its performance\n",
    "log_reg_cv.fit(df[['gender', 'occupation']], df['default'])\n",
    "print(\"Cross-validated accuracy:\", log_reg_cv.score(df[['gender', 'occupation']], df['default']))"
   ]
  },
  {
   "cell_type": "markdown",
   "id": "f2d9f8fe",
   "metadata": {},
   "source": [
    "The result 0.765 indicates that the cross-validated accuracy of the logistic regression model is also 0.765. This suggests that the model is not overfitting or underfitting, but the accuracy is still relatively low.\n",
    "\n",
    "Overall, these results suggest that the dataset is adversarial for logistic regression, meaning that the model's performance is not significantly affected by the choice of regularization parameter C or the cross-validation setting. This could be due to the presence of Simpson's paradox in the dataset, which can make it challenging for logistic regression to accurately model the relationships between the variables."
   ]
  }
 ],
 "metadata": {
  "kernelspec": {
   "display_name": "Python 3 (ipykernel)",
   "language": "python",
   "name": "python3"
  },
  "language_info": {
   "codemirror_mode": {
    "name": "ipython",
    "version": 3
   },
   "file_extension": ".py",
   "mimetype": "text/x-python",
   "name": "python",
   "nbconvert_exporter": "python",
   "pygments_lexer": "ipython3",
   "version": "3.11.2"
  }
 },
 "nbformat": 4,
 "nbformat_minor": 5
}
